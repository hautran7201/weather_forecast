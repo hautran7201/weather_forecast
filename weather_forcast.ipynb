{
  "cells": [
    {
      "cell_type": "markdown",
      "metadata": {
        "id": "z0G7XeTBnVD7"
      },
      "source": [
        "# Install"
      ]
    },
    {
      "cell_type": "code",
      "execution_count": null,
      "metadata": {
        "id": "gruIJSKsu7s8"
      },
      "outputs": [],
      "source": [
        "!pip install jupyter-dash -q"
      ]
    },
    {
      "cell_type": "code",
      "execution_count": null,
      "metadata": {
        "id": "k3hWyo5pvMYF"
      },
      "outputs": [],
      "source": [
        "!pip install dash-cytoscape -q"
      ]
    },
    {
      "cell_type": "code",
      "execution_count": null,
      "metadata": {
        "colab": {
          "base_uri": "https://localhost:8080/"
        },
        "id": "niHxYrLk7TTh",
        "outputId": "b9250fc7-c517-4929-fff7-ac32a234b037"
      },
      "outputs": [
        {
          "output_type": "stream",
          "name": "stdout",
          "text": [
            "Requirement already satisfied: opendatasets in /usr/local/lib/python3.10/dist-packages (0.1.22)\n",
            "Requirement already satisfied: tqdm in /usr/local/lib/python3.10/dist-packages (from opendatasets) (4.65.0)\n",
            "Requirement already satisfied: kaggle in /usr/local/lib/python3.10/dist-packages (from opendatasets) (1.5.15)\n",
            "Requirement already satisfied: click in /usr/local/lib/python3.10/dist-packages (from opendatasets) (8.1.4)\n",
            "Requirement already satisfied: six>=1.10 in /usr/local/lib/python3.10/dist-packages (from kaggle->opendatasets) (1.16.0)\n",
            "Requirement already satisfied: certifi in /usr/local/lib/python3.10/dist-packages (from kaggle->opendatasets) (2023.5.7)\n",
            "Requirement already satisfied: python-dateutil in /usr/local/lib/python3.10/dist-packages (from kaggle->opendatasets) (2.8.2)\n",
            "Requirement already satisfied: requests in /usr/local/lib/python3.10/dist-packages (from kaggle->opendatasets) (2.27.1)\n",
            "Requirement already satisfied: python-slugify in /usr/local/lib/python3.10/dist-packages (from kaggle->opendatasets) (8.0.1)\n",
            "Requirement already satisfied: urllib3 in /usr/local/lib/python3.10/dist-packages (from kaggle->opendatasets) (1.26.16)\n",
            "Requirement already satisfied: bleach in /usr/local/lib/python3.10/dist-packages (from kaggle->opendatasets) (6.0.0)\n",
            "Requirement already satisfied: webencodings in /usr/local/lib/python3.10/dist-packages (from bleach->kaggle->opendatasets) (0.5.1)\n",
            "Requirement already satisfied: text-unidecode>=1.3 in /usr/local/lib/python3.10/dist-packages (from python-slugify->kaggle->opendatasets) (1.3)\n",
            "Requirement already satisfied: charset-normalizer~=2.0.0 in /usr/local/lib/python3.10/dist-packages (from requests->kaggle->opendatasets) (2.0.12)\n",
            "Requirement already satisfied: idna<4,>=2.5 in /usr/local/lib/python3.10/dist-packages (from requests->kaggle->opendatasets) (3.4)\n"
          ]
        }
      ],
      "source": [
        "!pip install opendatasets"
      ]
    },
    {
      "cell_type": "code",
      "execution_count": null,
      "metadata": {
        "colab": {
          "base_uri": "https://localhost:8080/"
        },
        "id": "AyiaTMHdGluL",
        "outputId": "4a4a02a3-6cdb-43d6-ea7b-e378913cbc93"
      },
      "outputs": [
        {
          "output_type": "stream",
          "name": "stdout",
          "text": [
            "Requirement already satisfied: category_encoders in /usr/local/lib/python3.10/dist-packages (2.6.1)\n",
            "Requirement already satisfied: numpy>=1.14.0 in /usr/local/lib/python3.10/dist-packages (from category_encoders) (1.22.4)\n",
            "Requirement already satisfied: scikit-learn>=0.20.0 in /usr/local/lib/python3.10/dist-packages (from category_encoders) (1.2.2)\n",
            "Requirement already satisfied: scipy>=1.0.0 in /usr/local/lib/python3.10/dist-packages (from category_encoders) (1.10.1)\n",
            "Requirement already satisfied: statsmodels>=0.9.0 in /usr/local/lib/python3.10/dist-packages (from category_encoders) (0.13.5)\n",
            "Requirement already satisfied: pandas>=1.0.5 in /usr/local/lib/python3.10/dist-packages (from category_encoders) (1.5.3)\n",
            "Requirement already satisfied: patsy>=0.5.1 in /usr/local/lib/python3.10/dist-packages (from category_encoders) (0.5.3)\n",
            "Requirement already satisfied: python-dateutil>=2.8.1 in /usr/local/lib/python3.10/dist-packages (from pandas>=1.0.5->category_encoders) (2.8.2)\n",
            "Requirement already satisfied: pytz>=2020.1 in /usr/local/lib/python3.10/dist-packages (from pandas>=1.0.5->category_encoders) (2022.7.1)\n",
            "Requirement already satisfied: six in /usr/local/lib/python3.10/dist-packages (from patsy>=0.5.1->category_encoders) (1.16.0)\n",
            "Requirement already satisfied: joblib>=1.1.1 in /usr/local/lib/python3.10/dist-packages (from scikit-learn>=0.20.0->category_encoders) (1.3.1)\n",
            "Requirement already satisfied: threadpoolctl>=2.0.0 in /usr/local/lib/python3.10/dist-packages (from scikit-learn>=0.20.0->category_encoders) (3.1.0)\n",
            "Requirement already satisfied: packaging>=21.3 in /usr/local/lib/python3.10/dist-packages (from statsmodels>=0.9.0->category_encoders) (23.1)\n"
          ]
        }
      ],
      "source": [
        "!pip install category_encoders"
      ]
    },
    {
      "cell_type": "markdown",
      "metadata": {
        "id": "8iz5KrsL8-qm"
      },
      "source": [
        "# Import"
      ]
    },
    {
      "cell_type": "code",
      "execution_count": null,
      "metadata": {
        "colab": {
          "base_uri": "https://localhost:8080/"
        },
        "id": "8BkPKAqr7o3f",
        "outputId": "605647eb-f374-4532-e66f-a7b7406fbe5a"
      },
      "outputs": [
        {
          "output_type": "stream",
          "name": "stderr",
          "text": [
            "<ipython-input-9-766eb355b2fb>:18: UserWarning: \n",
            "The dash_core_components package is deprecated. Please replace\n",
            "`import dash_core_components as dcc` with `from dash import dcc`\n",
            "  import dash_core_components as dcc\n",
            "<ipython-input-9-766eb355b2fb>:19: UserWarning: \n",
            "The dash_html_components package is deprecated. Please replace\n",
            "`import dash_html_components as html` with `from dash import html`\n",
            "  import dash_html_components as html\n"
          ]
        }
      ],
      "source": [
        "# Utils\n",
        "import random\n",
        "import warnings\n",
        "import numpy as np\n",
        "import pandas as pd\n",
        "import opendatasets as od\n",
        "import missingno as msno\n",
        "import os\n",
        "from category_encoders import BinaryEncoder\n",
        "\n",
        "# Plot\n",
        "import dash\n",
        "import pandas as pd\n",
        "import seaborn as sns\n",
        "import plotly.express as px\n",
        "import matplotlib.pyplot as plt\n",
        "import plotly.graph_objects as go\n",
        "import dash_core_components as dcc\n",
        "import dash_html_components as html\n",
        "from jupyter_dash import JupyterDash\n",
        "from dash.dependencies import Input, Output\n",
        "\n",
        "warnings.simplefilter(action='ignore', category=FutureWarning)"
      ]
    },
    {
      "cell_type": "markdown",
      "metadata": {
        "id": "BaFh72tt9kzB"
      },
      "source": [
        "# Download"
      ]
    },
    {
      "cell_type": "code",
      "execution_count": null,
      "metadata": {
        "colab": {
          "base_uri": "https://localhost:8080/"
        },
        "id": "Z-4bWU4D71nV",
        "outputId": "78f69f57-a53d-4046-83a5-063439d5e326"
      },
      "outputs": [
        {
          "output_type": "stream",
          "name": "stdout",
          "text": [
            "Please provide your Kaggle credentials to download this dataset. Learn more: http://bit.ly/kaggle-creds\n",
            "Your Kaggle username: hauth7201\n",
            "Your Kaggle Key: ··········\n",
            "Downloading vietnam-weather-data.zip to ./vietnam-weather-data\n"
          ]
        },
        {
          "output_type": "stream",
          "name": "stderr",
          "text": [
            "100%|██████████| 1.88M/1.88M [00:00<00:00, 2.46MB/s]\n"
          ]
        },
        {
          "output_type": "stream",
          "name": "stdout",
          "text": [
            "\n"
          ]
        }
      ],
      "source": [
        "# Download data\n",
        "path = 'https://www.kaggle.com/datasets/vanviethieuanh/vietnam-weather-data?fbclid=IwAR0I9LPl9GcBESRcLgMkufchT0TD_0pf8vlPzk-qRxcNdvVFUrGeTj28CIM'\n",
        "od.download(path)\n",
        "\n",
        "# Read csv file\n",
        "path = '/content/vietnam-weather-data/weather.csv'\n",
        "df = pd.read_csv(path)"
      ]
    },
    {
      "cell_type": "code",
      "execution_count": null,
      "metadata": {
        "colab": {
          "base_uri": "https://localhost:8080/"
        },
        "id": "FRWtnej6j5cW",
        "outputId": "ebe71678-bc2f-483a-a815-0974318e2f77"
      },
      "outputs": [
        {
          "output_type": "stream",
          "name": "stdout",
          "text": [
            "Number of row: 181960\n"
          ]
        }
      ],
      "source": [
        "# Number of samples\n",
        "number_of_row = len(df)\n",
        "print('Number of row:', number_of_row)"
      ]
    },
    {
      "cell_type": "markdown",
      "metadata": {
        "id": "DjKjZ9GHTN4P"
      },
      "source": [
        "# Noising data"
      ]
    },
    {
      "cell_type": "code",
      "execution_count": null,
      "metadata": {
        "colab": {
          "base_uri": "https://localhost:8080/"
        },
        "id": "8NyDkYk4B6d2",
        "outputId": "0917d756-bc9a-463d-d1f8-3f730f4189a6"
      },
      "outputs": [
        {
          "output_type": "execute_result",
          "data": {
            "text/plain": [
              "   province  max  min  wind wind_d  rain  humidi  cloud  pressure       date\n",
              "0  Bac Lieu   27   22    17    NNE   6.9      90     71      1010 2009-01-01\n",
              "1  Bac Lieu   28   22    15    ENE   0.5      85     61      1010 2009-01-02\n",
              "2  Bac Lieu   23   21     9    ESE  16.7      91     77      1011 2009-01-03\n",
              "3  Bac Lieu   27   21     9      E   2.2      86     32      1011 2009-01-04\n",
              "4  Bac Lieu   29   22    10     SE   0.0      81     25      1010 2009-01-05"
            ],
            "text/html": [
              "\n",
              "\n",
              "  <div id=\"df-724a009a-fec1-4d4d-a2b2-1d9857e57618\">\n",
              "    <div class=\"colab-df-container\">\n",
              "      <div>\n",
              "<style scoped>\n",
              "    .dataframe tbody tr th:only-of-type {\n",
              "        vertical-align: middle;\n",
              "    }\n",
              "\n",
              "    .dataframe tbody tr th {\n",
              "        vertical-align: top;\n",
              "    }\n",
              "\n",
              "    .dataframe thead th {\n",
              "        text-align: right;\n",
              "    }\n",
              "</style>\n",
              "<table border=\"1\" class=\"dataframe\">\n",
              "  <thead>\n",
              "    <tr style=\"text-align: right;\">\n",
              "      <th></th>\n",
              "      <th>province</th>\n",
              "      <th>max</th>\n",
              "      <th>min</th>\n",
              "      <th>wind</th>\n",
              "      <th>wind_d</th>\n",
              "      <th>rain</th>\n",
              "      <th>humidi</th>\n",
              "      <th>cloud</th>\n",
              "      <th>pressure</th>\n",
              "      <th>date</th>\n",
              "    </tr>\n",
              "  </thead>\n",
              "  <tbody>\n",
              "    <tr>\n",
              "      <th>0</th>\n",
              "      <td>Bac Lieu</td>\n",
              "      <td>27</td>\n",
              "      <td>22</td>\n",
              "      <td>17</td>\n",
              "      <td>NNE</td>\n",
              "      <td>6.9</td>\n",
              "      <td>90</td>\n",
              "      <td>71</td>\n",
              "      <td>1010</td>\n",
              "      <td>2009-01-01</td>\n",
              "    </tr>\n",
              "    <tr>\n",
              "      <th>1</th>\n",
              "      <td>Bac Lieu</td>\n",
              "      <td>28</td>\n",
              "      <td>22</td>\n",
              "      <td>15</td>\n",
              "      <td>ENE</td>\n",
              "      <td>0.5</td>\n",
              "      <td>85</td>\n",
              "      <td>61</td>\n",
              "      <td>1010</td>\n",
              "      <td>2009-01-02</td>\n",
              "    </tr>\n",
              "    <tr>\n",
              "      <th>2</th>\n",
              "      <td>Bac Lieu</td>\n",
              "      <td>23</td>\n",
              "      <td>21</td>\n",
              "      <td>9</td>\n",
              "      <td>ESE</td>\n",
              "      <td>16.7</td>\n",
              "      <td>91</td>\n",
              "      <td>77</td>\n",
              "      <td>1011</td>\n",
              "      <td>2009-01-03</td>\n",
              "    </tr>\n",
              "    <tr>\n",
              "      <th>3</th>\n",
              "      <td>Bac Lieu</td>\n",
              "      <td>27</td>\n",
              "      <td>21</td>\n",
              "      <td>9</td>\n",
              "      <td>E</td>\n",
              "      <td>2.2</td>\n",
              "      <td>86</td>\n",
              "      <td>32</td>\n",
              "      <td>1011</td>\n",
              "      <td>2009-01-04</td>\n",
              "    </tr>\n",
              "    <tr>\n",
              "      <th>4</th>\n",
              "      <td>Bac Lieu</td>\n",
              "      <td>29</td>\n",
              "      <td>22</td>\n",
              "      <td>10</td>\n",
              "      <td>SE</td>\n",
              "      <td>0.0</td>\n",
              "      <td>81</td>\n",
              "      <td>25</td>\n",
              "      <td>1010</td>\n",
              "      <td>2009-01-05</td>\n",
              "    </tr>\n",
              "  </tbody>\n",
              "</table>\n",
              "</div>\n",
              "      <button class=\"colab-df-convert\" onclick=\"convertToInteractive('df-724a009a-fec1-4d4d-a2b2-1d9857e57618')\"\n",
              "              title=\"Convert this dataframe to an interactive table.\"\n",
              "              style=\"display:none;\">\n",
              "\n",
              "  <svg xmlns=\"http://www.w3.org/2000/svg\" height=\"24px\"viewBox=\"0 0 24 24\"\n",
              "       width=\"24px\">\n",
              "    <path d=\"M0 0h24v24H0V0z\" fill=\"none\"/>\n",
              "    <path d=\"M18.56 5.44l.94 2.06.94-2.06 2.06-.94-2.06-.94-.94-2.06-.94 2.06-2.06.94zm-11 1L8.5 8.5l.94-2.06 2.06-.94-2.06-.94L8.5 2.5l-.94 2.06-2.06.94zm10 10l.94 2.06.94-2.06 2.06-.94-2.06-.94-.94-2.06-.94 2.06-2.06.94z\"/><path d=\"M17.41 7.96l-1.37-1.37c-.4-.4-.92-.59-1.43-.59-.52 0-1.04.2-1.43.59L10.3 9.45l-7.72 7.72c-.78.78-.78 2.05 0 2.83L4 21.41c.39.39.9.59 1.41.59.51 0 1.02-.2 1.41-.59l7.78-7.78 2.81-2.81c.8-.78.8-2.07 0-2.86zM5.41 20L4 18.59l7.72-7.72 1.47 1.35L5.41 20z\"/>\n",
              "  </svg>\n",
              "      </button>\n",
              "\n",
              "\n",
              "\n",
              "    <div id=\"df-acfc39f6-26c2-4eda-8894-fed5aacf9811\">\n",
              "      <button class=\"colab-df-quickchart\" onclick=\"quickchart('df-acfc39f6-26c2-4eda-8894-fed5aacf9811')\"\n",
              "              title=\"Suggest charts.\"\n",
              "              style=\"display:none;\">\n",
              "\n",
              "<svg xmlns=\"http://www.w3.org/2000/svg\" height=\"24px\"viewBox=\"0 0 24 24\"\n",
              "     width=\"24px\">\n",
              "    <g>\n",
              "        <path d=\"M19 3H5c-1.1 0-2 .9-2 2v14c0 1.1.9 2 2 2h14c1.1 0 2-.9 2-2V5c0-1.1-.9-2-2-2zM9 17H7v-7h2v7zm4 0h-2V7h2v10zm4 0h-2v-4h2v4z\"/>\n",
              "    </g>\n",
              "</svg>\n",
              "      </button>\n",
              "    </div>\n",
              "\n",
              "<style>\n",
              "  .colab-df-quickchart {\n",
              "    background-color: #E8F0FE;\n",
              "    border: none;\n",
              "    border-radius: 50%;\n",
              "    cursor: pointer;\n",
              "    display: none;\n",
              "    fill: #1967D2;\n",
              "    height: 32px;\n",
              "    padding: 0 0 0 0;\n",
              "    width: 32px;\n",
              "  }\n",
              "\n",
              "  .colab-df-quickchart:hover {\n",
              "    background-color: #E2EBFA;\n",
              "    box-shadow: 0px 1px 2px rgba(60, 64, 67, 0.3), 0px 1px 3px 1px rgba(60, 64, 67, 0.15);\n",
              "    fill: #174EA6;\n",
              "  }\n",
              "\n",
              "  [theme=dark] .colab-df-quickchart {\n",
              "    background-color: #3B4455;\n",
              "    fill: #D2E3FC;\n",
              "  }\n",
              "\n",
              "  [theme=dark] .colab-df-quickchart:hover {\n",
              "    background-color: #434B5C;\n",
              "    box-shadow: 0px 1px 3px 1px rgba(0, 0, 0, 0.15);\n",
              "    filter: drop-shadow(0px 1px 2px rgba(0, 0, 0, 0.3));\n",
              "    fill: #FFFFFF;\n",
              "  }\n",
              "</style>\n",
              "\n",
              "    <script>\n",
              "      async function quickchart(key) {\n",
              "        const containerElement = document.querySelector('#' + key);\n",
              "        const charts = await google.colab.kernel.invokeFunction(\n",
              "            'suggestCharts', [key], {});\n",
              "      }\n",
              "    </script>\n",
              "\n",
              "      <script>\n",
              "\n",
              "function displayQuickchartButton(domScope) {\n",
              "  let quickchartButtonEl =\n",
              "    domScope.querySelector('#df-acfc39f6-26c2-4eda-8894-fed5aacf9811 button.colab-df-quickchart');\n",
              "  quickchartButtonEl.style.display =\n",
              "    google.colab.kernel.accessAllowed ? 'block' : 'none';\n",
              "}\n",
              "\n",
              "        displayQuickchartButton(document);\n",
              "      </script>\n",
              "      <style>\n",
              "    .colab-df-container {\n",
              "      display:flex;\n",
              "      flex-wrap:wrap;\n",
              "      gap: 12px;\n",
              "    }\n",
              "\n",
              "    .colab-df-convert {\n",
              "      background-color: #E8F0FE;\n",
              "      border: none;\n",
              "      border-radius: 50%;\n",
              "      cursor: pointer;\n",
              "      display: none;\n",
              "      fill: #1967D2;\n",
              "      height: 32px;\n",
              "      padding: 0 0 0 0;\n",
              "      width: 32px;\n",
              "    }\n",
              "\n",
              "    .colab-df-convert:hover {\n",
              "      background-color: #E2EBFA;\n",
              "      box-shadow: 0px 1px 2px rgba(60, 64, 67, 0.3), 0px 1px 3px 1px rgba(60, 64, 67, 0.15);\n",
              "      fill: #174EA6;\n",
              "    }\n",
              "\n",
              "    [theme=dark] .colab-df-convert {\n",
              "      background-color: #3B4455;\n",
              "      fill: #D2E3FC;\n",
              "    }\n",
              "\n",
              "    [theme=dark] .colab-df-convert:hover {\n",
              "      background-color: #434B5C;\n",
              "      box-shadow: 0px 1px 3px 1px rgba(0, 0, 0, 0.15);\n",
              "      filter: drop-shadow(0px 1px 2px rgba(0, 0, 0, 0.3));\n",
              "      fill: #FFFFFF;\n",
              "    }\n",
              "  </style>\n",
              "\n",
              "      <script>\n",
              "        const buttonEl =\n",
              "          document.querySelector('#df-724a009a-fec1-4d4d-a2b2-1d9857e57618 button.colab-df-convert');\n",
              "        buttonEl.style.display =\n",
              "          google.colab.kernel.accessAllowed ? 'block' : 'none';\n",
              "\n",
              "        async function convertToInteractive(key) {\n",
              "          const element = document.querySelector('#df-724a009a-fec1-4d4d-a2b2-1d9857e57618');\n",
              "          const dataTable =\n",
              "            await google.colab.kernel.invokeFunction('convertToInteractive',\n",
              "                                                     [key], {});\n",
              "          if (!dataTable) return;\n",
              "\n",
              "          const docLinkHtml = 'Like what you see? Visit the ' +\n",
              "            '<a target=\"_blank\" href=https://colab.research.google.com/notebooks/data_table.ipynb>data table notebook</a>'\n",
              "            + ' to learn more about interactive tables.';\n",
              "          element.innerHTML = '';\n",
              "          dataTable['output_type'] = 'display_data';\n",
              "          await google.colab.output.renderOutput(dataTable, element);\n",
              "          const docLink = document.createElement('div');\n",
              "          docLink.innerHTML = docLinkHtml;\n",
              "          element.appendChild(docLink);\n",
              "        }\n",
              "      </script>\n",
              "    </div>\n",
              "  </div>\n"
            ]
          },
          "metadata": {},
          "execution_count": 8
        }
      ],
      "source": [
        "# Convert data to date\n",
        "\n",
        "df['date'] = pd.to_datetime(df['date'])\n",
        "df = df.sort_values(['province', 'date'], ignore_index=True)\n",
        "\n",
        "df.head()"
      ]
    },
    {
      "cell_type": "code",
      "execution_count": null,
      "metadata": {
        "id": "ZG02pBqUDN0P"
      },
      "outputs": [],
      "source": [
        "def noising_data(df, column, frac, value):\n",
        "  amount = int(number_of_row*frac)\n",
        "\n",
        "  # index list of sample\n",
        "  indices = np.random.choice(range(number_of_row), size=amount, replace=False)\n",
        "\n",
        "  # Change value\n",
        "  df.loc[indices, column] = value"
      ]
    },
    {
      "cell_type": "markdown",
      "metadata": {
        "id": "g-aDgh34Buu-"
      },
      "source": [
        "> ## Add noise to feature"
      ]
    },
    {
      "cell_type": "code",
      "execution_count": null,
      "metadata": {
        "id": "9_wvn7N5wWDO"
      },
      "outputs": [],
      "source": [
        "noising_data(df, 'wind_d', 0.1, None)"
      ]
    },
    {
      "cell_type": "code",
      "execution_count": null,
      "metadata": {
        "id": "oLaxtUh1B-_-"
      },
      "outputs": [],
      "source": [
        "noising_data(df, 'max', 0.01, None)"
      ]
    },
    {
      "cell_type": "code",
      "execution_count": null,
      "metadata": {
        "id": "GDUar9ksFHOf"
      },
      "outputs": [],
      "source": [
        "noising_data(df, 'humidi', 0.05, None)"
      ]
    },
    {
      "cell_type": "code",
      "execution_count": null,
      "metadata": {
        "colab": {
          "base_uri": "https://localhost:8080/"
        },
        "id": "6vbtGa_Bn86m",
        "outputId": "c8ea3c82-cde5-44ac-dea6-395c04b54d44"
      },
      "outputs": [
        {
          "output_type": "execute_result",
          "data": {
            "text/plain": [
              "        province   max  min  wind wind_d  rain  humidi  cloud  pressure  \\\n",
              "0       Bac Lieu  27.0   22    17   None   6.9    90.0     71      1010   \n",
              "1       Bac Lieu  28.0   22    15    ENE   0.5    85.0     61      1010   \n",
              "2       Bac Lieu  23.0   21     9    ESE  16.7    91.0     77      1011   \n",
              "3       Bac Lieu  27.0   21     9      E   2.2    86.0     32      1011   \n",
              "4       Bac Lieu  29.0   22    10     SE   0.0    81.0     25      1010   \n",
              "...          ...   ...  ...   ...    ...   ...     ...    ...       ...   \n",
              "181955   Yen Bai  32.0   23     6    ESE   7.3    79.0     71      1001   \n",
              "181956   Yen Bai  34.0   25     6    SSE   0.3    71.0     46       999   \n",
              "181957   Yen Bai  36.0   27     6     SW   0.0    64.0     29      1000   \n",
              "181958   Yen Bai  37.0   28     7      S   0.0    66.0     27      1002   \n",
              "181959   Yen Bai  37.0   28     8   None   0.0    65.0     19      1002   \n",
              "\n",
              "             date  \n",
              "0      2009-01-01  \n",
              "1      2009-01-02  \n",
              "2      2009-01-03  \n",
              "3      2009-01-04  \n",
              "4      2009-01-05  \n",
              "...           ...  \n",
              "181955 2021-06-14  \n",
              "181956 2021-06-15  \n",
              "181957 2021-06-16  \n",
              "181958 2021-06-17  \n",
              "181959 2021-06-18  \n",
              "\n",
              "[181960 rows x 10 columns]"
            ],
            "text/html": [
              "\n",
              "\n",
              "  <div id=\"df-3bef334f-27d6-458c-963b-bc4bc1acc36b\">\n",
              "    <div class=\"colab-df-container\">\n",
              "      <div>\n",
              "<style scoped>\n",
              "    .dataframe tbody tr th:only-of-type {\n",
              "        vertical-align: middle;\n",
              "    }\n",
              "\n",
              "    .dataframe tbody tr th {\n",
              "        vertical-align: top;\n",
              "    }\n",
              "\n",
              "    .dataframe thead th {\n",
              "        text-align: right;\n",
              "    }\n",
              "</style>\n",
              "<table border=\"1\" class=\"dataframe\">\n",
              "  <thead>\n",
              "    <tr style=\"text-align: right;\">\n",
              "      <th></th>\n",
              "      <th>province</th>\n",
              "      <th>max</th>\n",
              "      <th>min</th>\n",
              "      <th>wind</th>\n",
              "      <th>wind_d</th>\n",
              "      <th>rain</th>\n",
              "      <th>humidi</th>\n",
              "      <th>cloud</th>\n",
              "      <th>pressure</th>\n",
              "      <th>date</th>\n",
              "    </tr>\n",
              "  </thead>\n",
              "  <tbody>\n",
              "    <tr>\n",
              "      <th>0</th>\n",
              "      <td>Bac Lieu</td>\n",
              "      <td>27.0</td>\n",
              "      <td>22</td>\n",
              "      <td>17</td>\n",
              "      <td>None</td>\n",
              "      <td>6.9</td>\n",
              "      <td>90.0</td>\n",
              "      <td>71</td>\n",
              "      <td>1010</td>\n",
              "      <td>2009-01-01</td>\n",
              "    </tr>\n",
              "    <tr>\n",
              "      <th>1</th>\n",
              "      <td>Bac Lieu</td>\n",
              "      <td>28.0</td>\n",
              "      <td>22</td>\n",
              "      <td>15</td>\n",
              "      <td>ENE</td>\n",
              "      <td>0.5</td>\n",
              "      <td>85.0</td>\n",
              "      <td>61</td>\n",
              "      <td>1010</td>\n",
              "      <td>2009-01-02</td>\n",
              "    </tr>\n",
              "    <tr>\n",
              "      <th>2</th>\n",
              "      <td>Bac Lieu</td>\n",
              "      <td>23.0</td>\n",
              "      <td>21</td>\n",
              "      <td>9</td>\n",
              "      <td>ESE</td>\n",
              "      <td>16.7</td>\n",
              "      <td>91.0</td>\n",
              "      <td>77</td>\n",
              "      <td>1011</td>\n",
              "      <td>2009-01-03</td>\n",
              "    </tr>\n",
              "    <tr>\n",
              "      <th>3</th>\n",
              "      <td>Bac Lieu</td>\n",
              "      <td>27.0</td>\n",
              "      <td>21</td>\n",
              "      <td>9</td>\n",
              "      <td>E</td>\n",
              "      <td>2.2</td>\n",
              "      <td>86.0</td>\n",
              "      <td>32</td>\n",
              "      <td>1011</td>\n",
              "      <td>2009-01-04</td>\n",
              "    </tr>\n",
              "    <tr>\n",
              "      <th>4</th>\n",
              "      <td>Bac Lieu</td>\n",
              "      <td>29.0</td>\n",
              "      <td>22</td>\n",
              "      <td>10</td>\n",
              "      <td>SE</td>\n",
              "      <td>0.0</td>\n",
              "      <td>81.0</td>\n",
              "      <td>25</td>\n",
              "      <td>1010</td>\n",
              "      <td>2009-01-05</td>\n",
              "    </tr>\n",
              "    <tr>\n",
              "      <th>...</th>\n",
              "      <td>...</td>\n",
              "      <td>...</td>\n",
              "      <td>...</td>\n",
              "      <td>...</td>\n",
              "      <td>...</td>\n",
              "      <td>...</td>\n",
              "      <td>...</td>\n",
              "      <td>...</td>\n",
              "      <td>...</td>\n",
              "      <td>...</td>\n",
              "    </tr>\n",
              "    <tr>\n",
              "      <th>181955</th>\n",
              "      <td>Yen Bai</td>\n",
              "      <td>32.0</td>\n",
              "      <td>23</td>\n",
              "      <td>6</td>\n",
              "      <td>ESE</td>\n",
              "      <td>7.3</td>\n",
              "      <td>79.0</td>\n",
              "      <td>71</td>\n",
              "      <td>1001</td>\n",
              "      <td>2021-06-14</td>\n",
              "    </tr>\n",
              "    <tr>\n",
              "      <th>181956</th>\n",
              "      <td>Yen Bai</td>\n",
              "      <td>34.0</td>\n",
              "      <td>25</td>\n",
              "      <td>6</td>\n",
              "      <td>SSE</td>\n",
              "      <td>0.3</td>\n",
              "      <td>71.0</td>\n",
              "      <td>46</td>\n",
              "      <td>999</td>\n",
              "      <td>2021-06-15</td>\n",
              "    </tr>\n",
              "    <tr>\n",
              "      <th>181957</th>\n",
              "      <td>Yen Bai</td>\n",
              "      <td>36.0</td>\n",
              "      <td>27</td>\n",
              "      <td>6</td>\n",
              "      <td>SW</td>\n",
              "      <td>0.0</td>\n",
              "      <td>64.0</td>\n",
              "      <td>29</td>\n",
              "      <td>1000</td>\n",
              "      <td>2021-06-16</td>\n",
              "    </tr>\n",
              "    <tr>\n",
              "      <th>181958</th>\n",
              "      <td>Yen Bai</td>\n",
              "      <td>37.0</td>\n",
              "      <td>28</td>\n",
              "      <td>7</td>\n",
              "      <td>S</td>\n",
              "      <td>0.0</td>\n",
              "      <td>66.0</td>\n",
              "      <td>27</td>\n",
              "      <td>1002</td>\n",
              "      <td>2021-06-17</td>\n",
              "    </tr>\n",
              "    <tr>\n",
              "      <th>181959</th>\n",
              "      <td>Yen Bai</td>\n",
              "      <td>37.0</td>\n",
              "      <td>28</td>\n",
              "      <td>8</td>\n",
              "      <td>None</td>\n",
              "      <td>0.0</td>\n",
              "      <td>65.0</td>\n",
              "      <td>19</td>\n",
              "      <td>1002</td>\n",
              "      <td>2021-06-18</td>\n",
              "    </tr>\n",
              "  </tbody>\n",
              "</table>\n",
              "<p>181960 rows × 10 columns</p>\n",
              "</div>\n",
              "      <button class=\"colab-df-convert\" onclick=\"convertToInteractive('df-3bef334f-27d6-458c-963b-bc4bc1acc36b')\"\n",
              "              title=\"Convert this dataframe to an interactive table.\"\n",
              "              style=\"display:none;\">\n",
              "\n",
              "  <svg xmlns=\"http://www.w3.org/2000/svg\" height=\"24px\"viewBox=\"0 0 24 24\"\n",
              "       width=\"24px\">\n",
              "    <path d=\"M0 0h24v24H0V0z\" fill=\"none\"/>\n",
              "    <path d=\"M18.56 5.44l.94 2.06.94-2.06 2.06-.94-2.06-.94-.94-2.06-.94 2.06-2.06.94zm-11 1L8.5 8.5l.94-2.06 2.06-.94-2.06-.94L8.5 2.5l-.94 2.06-2.06.94zm10 10l.94 2.06.94-2.06 2.06-.94-2.06-.94-.94-2.06-.94 2.06-2.06.94z\"/><path d=\"M17.41 7.96l-1.37-1.37c-.4-.4-.92-.59-1.43-.59-.52 0-1.04.2-1.43.59L10.3 9.45l-7.72 7.72c-.78.78-.78 2.05 0 2.83L4 21.41c.39.39.9.59 1.41.59.51 0 1.02-.2 1.41-.59l7.78-7.78 2.81-2.81c.8-.78.8-2.07 0-2.86zM5.41 20L4 18.59l7.72-7.72 1.47 1.35L5.41 20z\"/>\n",
              "  </svg>\n",
              "      </button>\n",
              "\n",
              "\n",
              "\n",
              "    <div id=\"df-0499947f-982d-4589-84f3-cd75692d2871\">\n",
              "      <button class=\"colab-df-quickchart\" onclick=\"quickchart('df-0499947f-982d-4589-84f3-cd75692d2871')\"\n",
              "              title=\"Suggest charts.\"\n",
              "              style=\"display:none;\">\n",
              "\n",
              "<svg xmlns=\"http://www.w3.org/2000/svg\" height=\"24px\"viewBox=\"0 0 24 24\"\n",
              "     width=\"24px\">\n",
              "    <g>\n",
              "        <path d=\"M19 3H5c-1.1 0-2 .9-2 2v14c0 1.1.9 2 2 2h14c1.1 0 2-.9 2-2V5c0-1.1-.9-2-2-2zM9 17H7v-7h2v7zm4 0h-2V7h2v10zm4 0h-2v-4h2v4z\"/>\n",
              "    </g>\n",
              "</svg>\n",
              "      </button>\n",
              "    </div>\n",
              "\n",
              "<style>\n",
              "  .colab-df-quickchart {\n",
              "    background-color: #E8F0FE;\n",
              "    border: none;\n",
              "    border-radius: 50%;\n",
              "    cursor: pointer;\n",
              "    display: none;\n",
              "    fill: #1967D2;\n",
              "    height: 32px;\n",
              "    padding: 0 0 0 0;\n",
              "    width: 32px;\n",
              "  }\n",
              "\n",
              "  .colab-df-quickchart:hover {\n",
              "    background-color: #E2EBFA;\n",
              "    box-shadow: 0px 1px 2px rgba(60, 64, 67, 0.3), 0px 1px 3px 1px rgba(60, 64, 67, 0.15);\n",
              "    fill: #174EA6;\n",
              "  }\n",
              "\n",
              "  [theme=dark] .colab-df-quickchart {\n",
              "    background-color: #3B4455;\n",
              "    fill: #D2E3FC;\n",
              "  }\n",
              "\n",
              "  [theme=dark] .colab-df-quickchart:hover {\n",
              "    background-color: #434B5C;\n",
              "    box-shadow: 0px 1px 3px 1px rgba(0, 0, 0, 0.15);\n",
              "    filter: drop-shadow(0px 1px 2px rgba(0, 0, 0, 0.3));\n",
              "    fill: #FFFFFF;\n",
              "  }\n",
              "</style>\n",
              "\n",
              "    <script>\n",
              "      async function quickchart(key) {\n",
              "        const containerElement = document.querySelector('#' + key);\n",
              "        const charts = await google.colab.kernel.invokeFunction(\n",
              "            'suggestCharts', [key], {});\n",
              "      }\n",
              "    </script>\n",
              "\n",
              "      <script>\n",
              "\n",
              "function displayQuickchartButton(domScope) {\n",
              "  let quickchartButtonEl =\n",
              "    domScope.querySelector('#df-0499947f-982d-4589-84f3-cd75692d2871 button.colab-df-quickchart');\n",
              "  quickchartButtonEl.style.display =\n",
              "    google.colab.kernel.accessAllowed ? 'block' : 'none';\n",
              "}\n",
              "\n",
              "        displayQuickchartButton(document);\n",
              "      </script>\n",
              "      <style>\n",
              "    .colab-df-container {\n",
              "      display:flex;\n",
              "      flex-wrap:wrap;\n",
              "      gap: 12px;\n",
              "    }\n",
              "\n",
              "    .colab-df-convert {\n",
              "      background-color: #E8F0FE;\n",
              "      border: none;\n",
              "      border-radius: 50%;\n",
              "      cursor: pointer;\n",
              "      display: none;\n",
              "      fill: #1967D2;\n",
              "      height: 32px;\n",
              "      padding: 0 0 0 0;\n",
              "      width: 32px;\n",
              "    }\n",
              "\n",
              "    .colab-df-convert:hover {\n",
              "      background-color: #E2EBFA;\n",
              "      box-shadow: 0px 1px 2px rgba(60, 64, 67, 0.3), 0px 1px 3px 1px rgba(60, 64, 67, 0.15);\n",
              "      fill: #174EA6;\n",
              "    }\n",
              "\n",
              "    [theme=dark] .colab-df-convert {\n",
              "      background-color: #3B4455;\n",
              "      fill: #D2E3FC;\n",
              "    }\n",
              "\n",
              "    [theme=dark] .colab-df-convert:hover {\n",
              "      background-color: #434B5C;\n",
              "      box-shadow: 0px 1px 3px 1px rgba(0, 0, 0, 0.15);\n",
              "      filter: drop-shadow(0px 1px 2px rgba(0, 0, 0, 0.3));\n",
              "      fill: #FFFFFF;\n",
              "    }\n",
              "  </style>\n",
              "\n",
              "      <script>\n",
              "        const buttonEl =\n",
              "          document.querySelector('#df-3bef334f-27d6-458c-963b-bc4bc1acc36b button.colab-df-convert');\n",
              "        buttonEl.style.display =\n",
              "          google.colab.kernel.accessAllowed ? 'block' : 'none';\n",
              "\n",
              "        async function convertToInteractive(key) {\n",
              "          const element = document.querySelector('#df-3bef334f-27d6-458c-963b-bc4bc1acc36b');\n",
              "          const dataTable =\n",
              "            await google.colab.kernel.invokeFunction('convertToInteractive',\n",
              "                                                     [key], {});\n",
              "          if (!dataTable) return;\n",
              "\n",
              "          const docLinkHtml = 'Like what you see? Visit the ' +\n",
              "            '<a target=\"_blank\" href=https://colab.research.google.com/notebooks/data_table.ipynb>data table notebook</a>'\n",
              "            + ' to learn more about interactive tables.';\n",
              "          element.innerHTML = '';\n",
              "          dataTable['output_type'] = 'display_data';\n",
              "          await google.colab.output.renderOutput(dataTable, element);\n",
              "          const docLink = document.createElement('div');\n",
              "          docLink.innerHTML = docLinkHtml;\n",
              "          element.appendChild(docLink);\n",
              "        }\n",
              "      </script>\n",
              "    </div>\n",
              "  </div>\n"
            ]
          },
          "metadata": {},
          "execution_count": 13
        }
      ],
      "source": [
        "df"
      ]
    },
    {
      "cell_type": "markdown",
      "metadata": {
        "id": "2xpakCed9pnD"
      },
      "source": [
        "# Statistic"
      ]
    },
    {
      "cell_type": "code",
      "execution_count": null,
      "metadata": {
        "id": "NnctOdU2E9x0"
      },
      "outputs": [],
      "source": [
        "numerical_feature = ['max', 'min', 'wind', 'rain', 'humidi', 'cloud', 'pressure']\n",
        "nominal_feature = ['province', 'wind_d']\n",
        "time_series_feature = ['date']"
      ]
    },
    {
      "cell_type": "code",
      "execution_count": null,
      "metadata": {
        "colab": {
          "base_uri": "https://localhost:8080/"
        },
        "id": "YoqlNSC7Bw3z",
        "outputId": "8dcc403d-f0ac-46ad-ebcf-f72551abe592"
      },
      "outputs": [
        {
          "output_type": "stream",
          "name": "stdout",
          "text": [
            "Number of provinces: 40\n",
            "\n",
            "Data:\n",
            " ['Bac Lieu' 'Ben Tre' 'Bien Hoa' 'Buon Me Thuot' 'Ca Mau' 'Cam Pha'\n",
            " 'Cam Ranh' 'Can Tho' 'Chau Doc' 'Da Lat' 'Ha Noi' 'Hai Duong' 'Hai Phong'\n",
            " 'Hanoi' 'Ho Chi Minh City' 'Hoa Binh' 'Hong Gai' 'Hue' 'Long Xuyen'\n",
            " 'My Tho' 'Nam Dinh' 'Nha Trang' 'Phan Rang' 'Phan Thiet' 'Play Cu'\n",
            " 'Qui Nhon' 'Rach Gia' 'Soc Trang' 'Tam Ky' 'Tan An' 'Thai Nguyen'\n",
            " 'Thanh Hoa' 'Tra Vinh' 'Tuy Hoa' 'Uong Bi' 'Viet Tri' 'Vinh' 'Vinh Long'\n",
            " 'Vung Tau' 'Yen Bai']\n"
          ]
        }
      ],
      "source": [
        "provinces = df['province'].unique()\n",
        "print('Number of provinces:', len(provinces))\n",
        "print('\\nData:\\n', provinces)"
      ]
    },
    {
      "cell_type": "code",
      "execution_count": null,
      "metadata": {
        "colab": {
          "base_uri": "https://localhost:8080/"
        },
        "id": "HmTJQSGGC9xj",
        "outputId": "5ca66655-d0aa-417b-a7fe-095bdbc3ec23"
      },
      "outputs": [
        {
          "output_type": "stream",
          "name": "stdout",
          "text": [
            "Number of wind direction: 17\n",
            "\n",
            "Data:\n",
            " [None 'ENE' 'ESE' 'E' 'SE' 'NE' 'S' 'SSW' 'SSE' 'SW' 'WSW' 'W' 'WNW' 'NW'\n",
            " 'NNE' 'NNW' 'N']\n"
          ]
        }
      ],
      "source": [
        "wind_d = df['wind_d'].unique()\n",
        "print('Number of wind direction:', len(wind_d))\n",
        "print('\\nData:\\n', wind_d)"
      ]
    },
    {
      "cell_type": "code",
      "execution_count": null,
      "metadata": {
        "colab": {
          "base_uri": "https://localhost:8080/"
        },
        "id": "0yKuGvzd9f9_",
        "outputId": "27ed2f6e-2b54-4151-8d75-0f99a720c1e9"
      },
      "outputs": [
        {
          "output_type": "execute_result",
          "data": {
            "text/plain": [
              "                 max            min           wind           rain  \\\n",
              "count  180141.000000  181960.000000  181960.000000  181960.000000   \n",
              "mean       29.839392      23.277874      11.038657       6.567130   \n",
              "std         4.570556       3.945381       5.311807      13.602055   \n",
              "min         4.000000       2.000000       1.000000       0.000000   \n",
              "25%        28.000000      21.000000       7.000000       0.100000   \n",
              "50%        31.000000      24.000000      10.000000       1.800000   \n",
              "75%        33.000000      26.000000      14.000000       7.500000   \n",
              "max        46.000000      32.000000      54.000000     596.400000   \n",
              "\n",
              "              humidi          cloud       pressure  \n",
              "count  172862.000000  181960.000000  181960.000000  \n",
              "mean       77.077258      41.721268    1010.229127  \n",
              "std         9.286889      23.875067       4.635714  \n",
              "min        23.000000       0.000000     988.000000  \n",
              "25%        71.000000      23.000000    1008.000000  \n",
              "50%        78.000000      38.000000    1010.000000  \n",
              "75%        83.000000      58.000000    1012.000000  \n",
              "max       100.000000     100.000000    1038.000000  "
            ],
            "text/html": [
              "\n",
              "\n",
              "  <div id=\"df-fa3b837c-fc60-40c5-a1ed-06aab0646075\">\n",
              "    <div class=\"colab-df-container\">\n",
              "      <div>\n",
              "<style scoped>\n",
              "    .dataframe tbody tr th:only-of-type {\n",
              "        vertical-align: middle;\n",
              "    }\n",
              "\n",
              "    .dataframe tbody tr th {\n",
              "        vertical-align: top;\n",
              "    }\n",
              "\n",
              "    .dataframe thead th {\n",
              "        text-align: right;\n",
              "    }\n",
              "</style>\n",
              "<table border=\"1\" class=\"dataframe\">\n",
              "  <thead>\n",
              "    <tr style=\"text-align: right;\">\n",
              "      <th></th>\n",
              "      <th>max</th>\n",
              "      <th>min</th>\n",
              "      <th>wind</th>\n",
              "      <th>rain</th>\n",
              "      <th>humidi</th>\n",
              "      <th>cloud</th>\n",
              "      <th>pressure</th>\n",
              "    </tr>\n",
              "  </thead>\n",
              "  <tbody>\n",
              "    <tr>\n",
              "      <th>count</th>\n",
              "      <td>180141.000000</td>\n",
              "      <td>181960.000000</td>\n",
              "      <td>181960.000000</td>\n",
              "      <td>181960.000000</td>\n",
              "      <td>172862.000000</td>\n",
              "      <td>181960.000000</td>\n",
              "      <td>181960.000000</td>\n",
              "    </tr>\n",
              "    <tr>\n",
              "      <th>mean</th>\n",
              "      <td>29.839392</td>\n",
              "      <td>23.277874</td>\n",
              "      <td>11.038657</td>\n",
              "      <td>6.567130</td>\n",
              "      <td>77.077258</td>\n",
              "      <td>41.721268</td>\n",
              "      <td>1010.229127</td>\n",
              "    </tr>\n",
              "    <tr>\n",
              "      <th>std</th>\n",
              "      <td>4.570556</td>\n",
              "      <td>3.945381</td>\n",
              "      <td>5.311807</td>\n",
              "      <td>13.602055</td>\n",
              "      <td>9.286889</td>\n",
              "      <td>23.875067</td>\n",
              "      <td>4.635714</td>\n",
              "    </tr>\n",
              "    <tr>\n",
              "      <th>min</th>\n",
              "      <td>4.000000</td>\n",
              "      <td>2.000000</td>\n",
              "      <td>1.000000</td>\n",
              "      <td>0.000000</td>\n",
              "      <td>23.000000</td>\n",
              "      <td>0.000000</td>\n",
              "      <td>988.000000</td>\n",
              "    </tr>\n",
              "    <tr>\n",
              "      <th>25%</th>\n",
              "      <td>28.000000</td>\n",
              "      <td>21.000000</td>\n",
              "      <td>7.000000</td>\n",
              "      <td>0.100000</td>\n",
              "      <td>71.000000</td>\n",
              "      <td>23.000000</td>\n",
              "      <td>1008.000000</td>\n",
              "    </tr>\n",
              "    <tr>\n",
              "      <th>50%</th>\n",
              "      <td>31.000000</td>\n",
              "      <td>24.000000</td>\n",
              "      <td>10.000000</td>\n",
              "      <td>1.800000</td>\n",
              "      <td>78.000000</td>\n",
              "      <td>38.000000</td>\n",
              "      <td>1010.000000</td>\n",
              "    </tr>\n",
              "    <tr>\n",
              "      <th>75%</th>\n",
              "      <td>33.000000</td>\n",
              "      <td>26.000000</td>\n",
              "      <td>14.000000</td>\n",
              "      <td>7.500000</td>\n",
              "      <td>83.000000</td>\n",
              "      <td>58.000000</td>\n",
              "      <td>1012.000000</td>\n",
              "    </tr>\n",
              "    <tr>\n",
              "      <th>max</th>\n",
              "      <td>46.000000</td>\n",
              "      <td>32.000000</td>\n",
              "      <td>54.000000</td>\n",
              "      <td>596.400000</td>\n",
              "      <td>100.000000</td>\n",
              "      <td>100.000000</td>\n",
              "      <td>1038.000000</td>\n",
              "    </tr>\n",
              "  </tbody>\n",
              "</table>\n",
              "</div>\n",
              "      <button class=\"colab-df-convert\" onclick=\"convertToInteractive('df-fa3b837c-fc60-40c5-a1ed-06aab0646075')\"\n",
              "              title=\"Convert this dataframe to an interactive table.\"\n",
              "              style=\"display:none;\">\n",
              "\n",
              "  <svg xmlns=\"http://www.w3.org/2000/svg\" height=\"24px\"viewBox=\"0 0 24 24\"\n",
              "       width=\"24px\">\n",
              "    <path d=\"M0 0h24v24H0V0z\" fill=\"none\"/>\n",
              "    <path d=\"M18.56 5.44l.94 2.06.94-2.06 2.06-.94-2.06-.94-.94-2.06-.94 2.06-2.06.94zm-11 1L8.5 8.5l.94-2.06 2.06-.94-2.06-.94L8.5 2.5l-.94 2.06-2.06.94zm10 10l.94 2.06.94-2.06 2.06-.94-2.06-.94-.94-2.06-.94 2.06-2.06.94z\"/><path d=\"M17.41 7.96l-1.37-1.37c-.4-.4-.92-.59-1.43-.59-.52 0-1.04.2-1.43.59L10.3 9.45l-7.72 7.72c-.78.78-.78 2.05 0 2.83L4 21.41c.39.39.9.59 1.41.59.51 0 1.02-.2 1.41-.59l7.78-7.78 2.81-2.81c.8-.78.8-2.07 0-2.86zM5.41 20L4 18.59l7.72-7.72 1.47 1.35L5.41 20z\"/>\n",
              "  </svg>\n",
              "      </button>\n",
              "\n",
              "\n",
              "\n",
              "    <div id=\"df-ac0ceadd-ec57-4e03-ac28-061aedae2819\">\n",
              "      <button class=\"colab-df-quickchart\" onclick=\"quickchart('df-ac0ceadd-ec57-4e03-ac28-061aedae2819')\"\n",
              "              title=\"Suggest charts.\"\n",
              "              style=\"display:none;\">\n",
              "\n",
              "<svg xmlns=\"http://www.w3.org/2000/svg\" height=\"24px\"viewBox=\"0 0 24 24\"\n",
              "     width=\"24px\">\n",
              "    <g>\n",
              "        <path d=\"M19 3H5c-1.1 0-2 .9-2 2v14c0 1.1.9 2 2 2h14c1.1 0 2-.9 2-2V5c0-1.1-.9-2-2-2zM9 17H7v-7h2v7zm4 0h-2V7h2v10zm4 0h-2v-4h2v4z\"/>\n",
              "    </g>\n",
              "</svg>\n",
              "      </button>\n",
              "    </div>\n",
              "\n",
              "<style>\n",
              "  .colab-df-quickchart {\n",
              "    background-color: #E8F0FE;\n",
              "    border: none;\n",
              "    border-radius: 50%;\n",
              "    cursor: pointer;\n",
              "    display: none;\n",
              "    fill: #1967D2;\n",
              "    height: 32px;\n",
              "    padding: 0 0 0 0;\n",
              "    width: 32px;\n",
              "  }\n",
              "\n",
              "  .colab-df-quickchart:hover {\n",
              "    background-color: #E2EBFA;\n",
              "    box-shadow: 0px 1px 2px rgba(60, 64, 67, 0.3), 0px 1px 3px 1px rgba(60, 64, 67, 0.15);\n",
              "    fill: #174EA6;\n",
              "  }\n",
              "\n",
              "  [theme=dark] .colab-df-quickchart {\n",
              "    background-color: #3B4455;\n",
              "    fill: #D2E3FC;\n",
              "  }\n",
              "\n",
              "  [theme=dark] .colab-df-quickchart:hover {\n",
              "    background-color: #434B5C;\n",
              "    box-shadow: 0px 1px 3px 1px rgba(0, 0, 0, 0.15);\n",
              "    filter: drop-shadow(0px 1px 2px rgba(0, 0, 0, 0.3));\n",
              "    fill: #FFFFFF;\n",
              "  }\n",
              "</style>\n",
              "\n",
              "    <script>\n",
              "      async function quickchart(key) {\n",
              "        const containerElement = document.querySelector('#' + key);\n",
              "        const charts = await google.colab.kernel.invokeFunction(\n",
              "            'suggestCharts', [key], {});\n",
              "      }\n",
              "    </script>\n",
              "\n",
              "      <script>\n",
              "\n",
              "function displayQuickchartButton(domScope) {\n",
              "  let quickchartButtonEl =\n",
              "    domScope.querySelector('#df-ac0ceadd-ec57-4e03-ac28-061aedae2819 button.colab-df-quickchart');\n",
              "  quickchartButtonEl.style.display =\n",
              "    google.colab.kernel.accessAllowed ? 'block' : 'none';\n",
              "}\n",
              "\n",
              "        displayQuickchartButton(document);\n",
              "      </script>\n",
              "      <style>\n",
              "    .colab-df-container {\n",
              "      display:flex;\n",
              "      flex-wrap:wrap;\n",
              "      gap: 12px;\n",
              "    }\n",
              "\n",
              "    .colab-df-convert {\n",
              "      background-color: #E8F0FE;\n",
              "      border: none;\n",
              "      border-radius: 50%;\n",
              "      cursor: pointer;\n",
              "      display: none;\n",
              "      fill: #1967D2;\n",
              "      height: 32px;\n",
              "      padding: 0 0 0 0;\n",
              "      width: 32px;\n",
              "    }\n",
              "\n",
              "    .colab-df-convert:hover {\n",
              "      background-color: #E2EBFA;\n",
              "      box-shadow: 0px 1px 2px rgba(60, 64, 67, 0.3), 0px 1px 3px 1px rgba(60, 64, 67, 0.15);\n",
              "      fill: #174EA6;\n",
              "    }\n",
              "\n",
              "    [theme=dark] .colab-df-convert {\n",
              "      background-color: #3B4455;\n",
              "      fill: #D2E3FC;\n",
              "    }\n",
              "\n",
              "    [theme=dark] .colab-df-convert:hover {\n",
              "      background-color: #434B5C;\n",
              "      box-shadow: 0px 1px 3px 1px rgba(0, 0, 0, 0.15);\n",
              "      filter: drop-shadow(0px 1px 2px rgba(0, 0, 0, 0.3));\n",
              "      fill: #FFFFFF;\n",
              "    }\n",
              "  </style>\n",
              "\n",
              "      <script>\n",
              "        const buttonEl =\n",
              "          document.querySelector('#df-fa3b837c-fc60-40c5-a1ed-06aab0646075 button.colab-df-convert');\n",
              "        buttonEl.style.display =\n",
              "          google.colab.kernel.accessAllowed ? 'block' : 'none';\n",
              "\n",
              "        async function convertToInteractive(key) {\n",
              "          const element = document.querySelector('#df-fa3b837c-fc60-40c5-a1ed-06aab0646075');\n",
              "          const dataTable =\n",
              "            await google.colab.kernel.invokeFunction('convertToInteractive',\n",
              "                                                     [key], {});\n",
              "          if (!dataTable) return;\n",
              "\n",
              "          const docLinkHtml = 'Like what you see? Visit the ' +\n",
              "            '<a target=\"_blank\" href=https://colab.research.google.com/notebooks/data_table.ipynb>data table notebook</a>'\n",
              "            + ' to learn more about interactive tables.';\n",
              "          element.innerHTML = '';\n",
              "          dataTable['output_type'] = 'display_data';\n",
              "          await google.colab.output.renderOutput(dataTable, element);\n",
              "          const docLink = document.createElement('div');\n",
              "          docLink.innerHTML = docLinkHtml;\n",
              "          element.appendChild(docLink);\n",
              "        }\n",
              "      </script>\n",
              "    </div>\n",
              "  </div>\n"
            ]
          },
          "metadata": {},
          "execution_count": 17
        }
      ],
      "source": [
        "df.describe()"
      ]
    },
    {
      "cell_type": "code",
      "execution_count": null,
      "metadata": {
        "colab": {
          "base_uri": "https://localhost:8080/"
        },
        "id": "JnvH9cAinU7Y",
        "outputId": "7da41fbd-3a3f-4ad6-e2a1-07f5c7d2278d"
      },
      "outputs": [
        {
          "output_type": "stream",
          "name": "stdout",
          "text": [
            "<class 'pandas.core.frame.DataFrame'>\n",
            "RangeIndex: 181960 entries, 0 to 181959\n",
            "Data columns (total 10 columns):\n",
            " #   Column    Non-Null Count   Dtype         \n",
            "---  ------    --------------   -----         \n",
            " 0   province  181960 non-null  object        \n",
            " 1   max       180141 non-null  float64       \n",
            " 2   min       181960 non-null  int64         \n",
            " 3   wind      181960 non-null  int64         \n",
            " 4   wind_d    163764 non-null  object        \n",
            " 5   rain      181960 non-null  float64       \n",
            " 6   humidi    172862 non-null  float64       \n",
            " 7   cloud     181960 non-null  int64         \n",
            " 8   pressure  181960 non-null  int64         \n",
            " 9   date      181960 non-null  datetime64[ns]\n",
            "dtypes: datetime64[ns](1), float64(3), int64(4), object(2)\n",
            "memory usage: 13.9+ MB\n"
          ]
        }
      ],
      "source": [
        "df.info()"
      ]
    },
    {
      "cell_type": "code",
      "execution_count": null,
      "metadata": {
        "colab": {
          "base_uri": "https://localhost:8080/"
        },
        "id": "kmwFBxdcHhgc",
        "outputId": "6967e92c-4953-4ac2-b6d4-ed40af0b2579"
      },
      "outputs": [
        {
          "output_type": "execute_result",
          "data": {
            "text/plain": [
              "<Axes: >"
            ]
          },
          "metadata": {},
          "execution_count": 19
        },
        {
          "output_type": "display_data",
          "data": {
            "text/plain": [
              "<Figure size 2500x1000 with 2 Axes>"
            ],
            "image/png": "[encoded data removed]"
          },
          "metadata": {}
        }
      ],
      "source": [
        "# Check null/missing valaue\n",
        "msno.matrix(df)"
      ]
    },
    {
      "cell_type": "code",
      "execution_count": null,
      "metadata": {
        "id": "H5kzi2WKnPUO"
      },
      "outputs": [],
      "source": [
        "# Save nosing data\n",
        "path = \"nosing_data.csv\"\n",
        "df.to_csv(path)"
      ]
    },
    {
      "cell_type": "markdown",
      "metadata": {
        "id": "q_coFHkSDyvC"
      },
      "source": [
        "# Visualize"
      ]
    },
    {
      "cell_type": "code",
      "execution_count": null,
      "metadata": {
        "id": "lVaDebJ3-OPw"
      },
      "outputs": [],
      "source": [
        "def create_logical_array(size, index):\n",
        "    logical_array = np.full(size, False)\n",
        "\n",
        "    logical_array[index] = True\n",
        "\n",
        "    return logical_array.tolist()"
      ]
    },
    {
      "cell_type": "markdown",
      "metadata": {
        "id": "kTvvrsrDG6WT"
      },
      "source": [
        "> ## Nominal feature"
      ]
    },
    {
      "cell_type": "code",
      "execution_count": null,
      "metadata": {
        "id": "5rkjQigxFlt-"
      },
      "outputs": [],
      "source": [
        "# win_d histogram plot\n",
        "\n",
        "fig = go.Figure()\n",
        "\n",
        "num_province = len(provinces)\n",
        "\n",
        "button_list = list([\n",
        "    dict(label = 'All',\n",
        "         method = 'update',\n",
        "         args = [{'visible': [True]*num_province},\n",
        "          {'showlegend':True}])\n",
        "    ])\n",
        "\n",
        "for i in range(num_province):\n",
        "    fig.add_trace(\n",
        "        go.Histogram(x=df[df['province']==provinces[i]]['wind_d'],\n",
        "                     name=provinces[i])\n",
        "    )\n",
        "\n",
        "    button_list.append(\n",
        "        dict(label = provinces[i],\n",
        "             method = 'update',\n",
        "             args = [{'visible': create_logical_array(num_province, i)},\n",
        "              {'showlegend':True}])\n",
        "    )\n",
        "\n",
        "fig.update_layout(\n",
        "    updatemenus=[go.layout.Updatemenu(\n",
        "        active=0,\n",
        "        buttons=button_list\n",
        "        )\n",
        "    ])\n",
        "\n",
        "fig.show()"
      ]
    },
    {
      "cell_type": "code",
      "execution_count": null,
      "metadata": {
        "id": "QDwmCuNQ878t"
      },
      "outputs": [],
      "source": [
        "# wind_d count\n",
        "\n",
        "df_wind = df.groupby('province')['wind_d'].value_counts().unstack()"
      ]
    },
    {
      "cell_type": "markdown",
      "metadata": {
        "id": "IjpF9PPiH3Zq"
      },
      "source": [
        "> ## Numerical feature"
      ]
    },
    {
      "cell_type": "code",
      "execution_count": null,
      "metadata": {
        "id": "uhKo9GliYuBt"
      },
      "outputs": [],
      "source": [
        "# Scatter plot province with other feature\n",
        "\n",
        "# Tạo DataFrame mẫu\n",
        "features = ['province', 'max', 'min', 'wind', 'wind_d', 'rain', 'humidi', 'cloud', 'pressure', 'date']\n",
        "plot_df = df[features]\n",
        "\n",
        "# Khởi tạo ứng dụng Dash\n",
        "app = JupyterDash(__name__)\n",
        "\n",
        "# Tạo layout cho ứng dụng Dash\n",
        "app.layout = html.Div(\n",
        "    children = [\n",
        "        dcc.Graph(id='graph'),\n",
        "        html.Div(children=[\n",
        "            dcc.Dropdown(\n",
        "                id='province-dropdown',\n",
        "                options=[{'label': province, 'value': province} for province in provinces],\n",
        "                value=plot_df['province'][0],\n",
        "                style={\n",
        "                      'width': '200px',\n",
        "                      'margin-right': '10px',\n",
        "                      'position': 'absolute',\n",
        "                      'top': '10px',\n",
        "                      'left': '50px'},\n",
        "                placeholder='Select province'\n",
        "            ),\n",
        "            dcc.Dropdown(\n",
        "                id='feature-dropdown',\n",
        "                options=[{'label': feature, 'value': feature} for feature in plot_df.columns if feature not in ['province', 'date']],\n",
        "                value='max',\n",
        "                style={\n",
        "                      'width': '200px',\n",
        "                      'margin-right': '10px',\n",
        "                      'position': 'absolute',\n",
        "                      'top': '10px',\n",
        "                      'left': '200px'},\n",
        "                placeholder='Select feature'\n",
        "            )]\n",
        "        )\n",
        "    ]\n",
        ")\n",
        "\n",
        "# Định nghĩa callback để cập nhật đồ thị dựa trên giá trị của hai dropdown menu\n",
        "@app.callback(\n",
        "    Output('graph', 'figure'),\n",
        "    [Input('province-dropdown', 'value'), Input('feature-dropdown', 'value')]\n",
        ")\n",
        "def update_graph(province, feature):\n",
        "    filtered_df = df[df['province'] == province]\n",
        "    fig = px.scatter(filtered_df, x='date', y=feature, color='province')\n",
        "    return fig\n",
        "\n",
        "app.run_server(mode='inline')\n"
      ]
    },
    {
      "cell_type": "code",
      "execution_count": null,
      "metadata": {
        "id": "wTJMJ82HJuOZ"
      },
      "outputs": [],
      "source": [
        "# Scatter matrix plot\n",
        "\n",
        "g = sns.PairGrid(df.sample(frac=0.3))\n",
        "g.map_diag(sns.histplot)\n",
        "g.map_offdiag(sns.scatterplot)"
      ]
    },
    {
      "cell_type": "code",
      "execution_count": null,
      "metadata": {
        "id": "GXThMJq9X_L6"
      },
      "outputs": [],
      "source": [
        "# box plot\n",
        "\n",
        "fig = go.Figure()\n",
        "\n",
        "num_feature = len(numerical_feature)\n",
        "\n",
        "button_list = list([])\n",
        "\n",
        "for i in range(num_feature):\n",
        "  fig.add_trace(\n",
        "      go.Box(x = df['province'],\n",
        "             y=df[numerical_feature[i]],\n",
        "             name = numerical_feature[i])\n",
        "      )\n",
        "\n",
        "  button_list.append(\n",
        "      dict(label = numerical_feature[i],\n",
        "           method = 'update',\n",
        "           args = [{'visible': create_logical_array(num_feature, i)}]\n",
        "           )\n",
        "      )\n",
        "\n",
        "fig.update_layout(\n",
        "    updatemenus=[go.layout.Updatemenu(\n",
        "        active=0,\n",
        "        buttons=button_list,\n",
        "        y=1\n",
        "        )\n",
        "    ])\n",
        "\n",
        "fig.show()"
      ]
    },
    {
      "cell_type": "code",
      "execution_count": null,
      "metadata": {
        "id": "P6XbkCc2kbvo"
      },
      "outputs": [],
      "source": [
        "# outliers count\n",
        "\n",
        "Q1 = df[numerical_feature].quantile(0.25)\n",
        "Q3 = df[numerical_feature].quantile(0.75)\n",
        "IQR = Q3 - Q1"
      ]
    },
    {
      "cell_type": "code",
      "execution_count": null,
      "metadata": {
        "id": "N7fcCq8oeD0X"
      },
      "outputs": [],
      "source": [
        "df_outliers = df[['province']+numerical_feature]\n",
        "\n",
        "grouped = df_outliers.groupby('province')\n",
        "\n",
        "outliers_count = grouped.apply(lambda x: ((x < (Q1 - 1.5 * IQR)) | (x > (Q3 + 1.5 * IQR))).sum()).drop('province', axis=1)"
      ]
    },
    {
      "cell_type": "code",
      "execution_count": null,
      "metadata": {
        "colab": {
          "base_uri": "https://localhost:8080/"
        },
        "id": "OpxI0Pkr7C5s",
        "outputId": "709a962d-c59a-4473-b990-a13139fc42b5"
      },
      "outputs": [
        {
          "output_type": "stream",
          "name": "stdout",
          "text": [
            "Total outliers:\n",
            "\n",
            "Total: 51532\n",
            "\n"
          ]
        },
        {
          "output_type": "execute_result",
          "data": {
            "text/plain": [
              "  column name  number of outlier  percent of outlier\n",
              "0       cloud                  0                0.00\n",
              "1      humidi               1943                1.07\n",
              "2         max               8477                4.66\n",
              "3         min               5200                2.86\n",
              "4    pressure              14552                8.00\n",
              "5        rain              17147                9.42\n",
              "6        wind               4213                2.32"
            ],
            "text/html": [
              "\n",
              "\n",
              "  <div id=\"df-52bcf08f-7191-4846-abbb-056bafeaa430\">\n",
              "    <div class=\"colab-df-container\">\n",
              "      <div>\n",
              "<style scoped>\n",
              "    .dataframe tbody tr th:only-of-type {\n",
              "        vertical-align: middle;\n",
              "    }\n",
              "\n",
              "    .dataframe tbody tr th {\n",
              "        vertical-align: top;\n",
              "    }\n",
              "\n",
              "    .dataframe thead th {\n",
              "        text-align: right;\n",
              "    }\n",
              "</style>\n",
              "<table border=\"1\" class=\"dataframe\">\n",
              "  <thead>\n",
              "    <tr style=\"text-align: right;\">\n",
              "      <th></th>\n",
              "      <th>column name</th>\n",
              "      <th>number of outlier</th>\n",
              "      <th>percent of outlier</th>\n",
              "    </tr>\n",
              "  </thead>\n",
              "  <tbody>\n",
              "    <tr>\n",
              "      <th>0</th>\n",
              "      <td>cloud</td>\n",
              "      <td>0</td>\n",
              "      <td>0.00</td>\n",
              "    </tr>\n",
              "    <tr>\n",
              "      <th>1</th>\n",
              "      <td>humidi</td>\n",
              "      <td>1943</td>\n",
              "      <td>1.07</td>\n",
              "    </tr>\n",
              "    <tr>\n",
              "      <th>2</th>\n",
              "      <td>max</td>\n",
              "      <td>8477</td>\n",
              "      <td>4.66</td>\n",
              "    </tr>\n",
              "    <tr>\n",
              "      <th>3</th>\n",
              "      <td>min</td>\n",
              "      <td>5200</td>\n",
              "      <td>2.86</td>\n",
              "    </tr>\n",
              "    <tr>\n",
              "      <th>4</th>\n",
              "      <td>pressure</td>\n",
              "      <td>14552</td>\n",
              "      <td>8.00</td>\n",
              "    </tr>\n",
              "    <tr>\n",
              "      <th>5</th>\n",
              "      <td>rain</td>\n",
              "      <td>17147</td>\n",
              "      <td>9.42</td>\n",
              "    </tr>\n",
              "    <tr>\n",
              "      <th>6</th>\n",
              "      <td>wind</td>\n",
              "      <td>4213</td>\n",
              "      <td>2.32</td>\n",
              "    </tr>\n",
              "  </tbody>\n",
              "</table>\n",
              "</div>\n",
              "      <button class=\"colab-df-convert\" onclick=\"convertToInteractive('df-52bcf08f-7191-4846-abbb-056bafeaa430')\"\n",
              "              title=\"Convert this dataframe to an interactive table.\"\n",
              "              style=\"display:none;\">\n",
              "\n",
              "  <svg xmlns=\"http://www.w3.org/2000/svg\" height=\"24px\"viewBox=\"0 0 24 24\"\n",
              "       width=\"24px\">\n",
              "    <path d=\"M0 0h24v24H0V0z\" fill=\"none\"/>\n",
              "    <path d=\"M18.56 5.44l.94 2.06.94-2.06 2.06-.94-2.06-.94-.94-2.06-.94 2.06-2.06.94zm-11 1L8.5 8.5l.94-2.06 2.06-.94-2.06-.94L8.5 2.5l-.94 2.06-2.06.94zm10 10l.94 2.06.94-2.06 2.06-.94-2.06-.94-.94-2.06-.94 2.06-2.06.94z\"/><path d=\"M17.41 7.96l-1.37-1.37c-.4-.4-.92-.59-1.43-.59-.52 0-1.04.2-1.43.59L10.3 9.45l-7.72 7.72c-.78.78-.78 2.05 0 2.83L4 21.41c.39.39.9.59 1.41.59.51 0 1.02-.2 1.41-.59l7.78-7.78 2.81-2.81c.8-.78.8-2.07 0-2.86zM5.41 20L4 18.59l7.72-7.72 1.47 1.35L5.41 20z\"/>\n",
              "  </svg>\n",
              "      </button>\n",
              "\n",
              "\n",
              "\n",
              "    <div id=\"df-4d4230ba-055d-44c6-82cf-cb30aad2cbda\">\n",
              "      <button class=\"colab-df-quickchart\" onclick=\"quickchart('df-4d4230ba-055d-44c6-82cf-cb30aad2cbda')\"\n",
              "              title=\"Suggest charts.\"\n",
              "              style=\"display:none;\">\n",
              "\n",
              "<svg xmlns=\"http://www.w3.org/2000/svg\" height=\"24px\"viewBox=\"0 0 24 24\"\n",
              "     width=\"24px\">\n",
              "    <g>\n",
              "        <path d=\"M19 3H5c-1.1 0-2 .9-2 2v14c0 1.1.9 2 2 2h14c1.1 0 2-.9 2-2V5c0-1.1-.9-2-2-2zM9 17H7v-7h2v7zm4 0h-2V7h2v10zm4 0h-2v-4h2v4z\"/>\n",
              "    </g>\n",
              "</svg>\n",
              "      </button>\n",
              "    </div>\n",
              "\n",
              "<style>\n",
              "  .colab-df-quickchart {\n",
              "    background-color: #E8F0FE;\n",
              "    border: none;\n",
              "    border-radius: 50%;\n",
              "    cursor: pointer;\n",
              "    display: none;\n",
              "    fill: #1967D2;\n",
              "    height: 32px;\n",
              "    padding: 0 0 0 0;\n",
              "    width: 32px;\n",
              "  }\n",
              "\n",
              "  .colab-df-quickchart:hover {\n",
              "    background-color: #E2EBFA;\n",
              "    box-shadow: 0px 1px 2px rgba(60, 64, 67, 0.3), 0px 1px 3px 1px rgba(60, 64, 67, 0.15);\n",
              "    fill: #174EA6;\n",
              "  }\n",
              "\n",
              "  [theme=dark] .colab-df-quickchart {\n",
              "    background-color: #3B4455;\n",
              "    fill: #D2E3FC;\n",
              "  }\n",
              "\n",
              "  [theme=dark] .colab-df-quickchart:hover {\n",
              "    background-color: #434B5C;\n",
              "    box-shadow: 0px 1px 3px 1px rgba(0, 0, 0, 0.15);\n",
              "    filter: drop-shadow(0px 1px 2px rgba(0, 0, 0, 0.3));\n",
              "    fill: #FFFFFF;\n",
              "  }\n",
              "</style>\n",
              "\n",
              "    <script>\n",
              "      async function quickchart(key) {\n",
              "        const containerElement = document.querySelector('#' + key);\n",
              "        const charts = await google.colab.kernel.invokeFunction(\n",
              "            'suggestCharts', [key], {});\n",
              "      }\n",
              "    </script>\n",
              "\n",
              "      <script>\n",
              "\n",
              "function displayQuickchartButton(domScope) {\n",
              "  let quickchartButtonEl =\n",
              "    domScope.querySelector('#df-4d4230ba-055d-44c6-82cf-cb30aad2cbda button.colab-df-quickchart');\n",
              "  quickchartButtonEl.style.display =\n",
              "    google.colab.kernel.accessAllowed ? 'block' : 'none';\n",
              "}\n",
              "\n",
              "        displayQuickchartButton(document);\n",
              "      </script>\n",
              "      <style>\n",
              "    .colab-df-container {\n",
              "      display:flex;\n",
              "      flex-wrap:wrap;\n",
              "      gap: 12px;\n",
              "    }\n",
              "\n",
              "    .colab-df-convert {\n",
              "      background-color: #E8F0FE;\n",
              "      border: none;\n",
              "      border-radius: 50%;\n",
              "      cursor: pointer;\n",
              "      display: none;\n",
              "      fill: #1967D2;\n",
              "      height: 32px;\n",
              "      padding: 0 0 0 0;\n",
              "      width: 32px;\n",
              "    }\n",
              "\n",
              "    .colab-df-convert:hover {\n",
              "      background-color: #E2EBFA;\n",
              "      box-shadow: 0px 1px 2px rgba(60, 64, 67, 0.3), 0px 1px 3px 1px rgba(60, 64, 67, 0.15);\n",
              "      fill: #174EA6;\n",
              "    }\n",
              "\n",
              "    [theme=dark] .colab-df-convert {\n",
              "      background-color: #3B4455;\n",
              "      fill: #D2E3FC;\n",
              "    }\n",
              "\n",
              "    [theme=dark] .colab-df-convert:hover {\n",
              "      background-color: #434B5C;\n",
              "      box-shadow: 0px 1px 3px 1px rgba(0, 0, 0, 0.15);\n",
              "      filter: drop-shadow(0px 1px 2px rgba(0, 0, 0, 0.3));\n",
              "      fill: #FFFFFF;\n",
              "    }\n",
              "  </style>\n",
              "\n",
              "      <script>\n",
              "        const buttonEl =\n",
              "          document.querySelector('#df-52bcf08f-7191-4846-abbb-056bafeaa430 button.colab-df-convert');\n",
              "        buttonEl.style.display =\n",
              "          google.colab.kernel.accessAllowed ? 'block' : 'none';\n",
              "\n",
              "        async function convertToInteractive(key) {\n",
              "          const element = document.querySelector('#df-52bcf08f-7191-4846-abbb-056bafeaa430');\n",
              "          const dataTable =\n",
              "            await google.colab.kernel.invokeFunction('convertToInteractive',\n",
              "                                                     [key], {});\n",
              "          if (!dataTable) return;\n",
              "\n",
              "          const docLinkHtml = 'Like what you see? Visit the ' +\n",
              "            '<a target=\"_blank\" href=https://colab.research.google.com/notebooks/data_table.ipynb>data table notebook</a>'\n",
              "            + ' to learn more about interactive tables.';\n",
              "          element.innerHTML = '';\n",
              "          dataTable['output_type'] = 'display_data';\n",
              "          await google.colab.output.renderOutput(dataTable, element);\n",
              "          const docLink = document.createElement('div');\n",
              "          docLink.innerHTML = docLinkHtml;\n",
              "          element.appendChild(docLink);\n",
              "        }\n",
              "      </script>\n",
              "    </div>\n",
              "  </div>\n"
            ]
          },
          "metadata": {},
          "execution_count": 29
        }
      ],
      "source": [
        "#@title Total outlier of features\n",
        "\n",
        "\n",
        "print(\"Total outliers:\\n\")\n",
        "print('Total:', sum(outliers_count.sum()))\n",
        "print()\n",
        "\n",
        "feature_outlier_number = outliers_count.sum()\n",
        "outliers_value_df = pd.DataFrame({'column name': feature_outlier_number.index,\n",
        "                                 'number of outlier': feature_outlier_number.values,\n",
        "                                 'percent of outlier': feature_outlier_number.values * 100 / len(df)})\n",
        "\n",
        "outliers_value_df['percent of outlier'] = outliers_value_df['percent of outlier'].round(decimals=2)\n",
        "outliers_value_df"
      ]
    },
    {
      "cell_type": "markdown",
      "metadata": {
        "id": "wPol9uSU6_O9"
      },
      "source": [
        "> ## Correlation"
      ]
    },
    {
      "cell_type": "code",
      "execution_count": null,
      "metadata": {
        "id": "bbQGHZBJDCZj"
      },
      "outputs": [],
      "source": [
        "plt.figure(figsize=(16, 8))\n",
        "corr = df.corr()\n",
        "sns.heatmap(corr, annot=True)"
      ]
    },
    {
      "cell_type": "markdown",
      "metadata": {
        "id": "v2neszK8S7fh"
      },
      "source": [
        "# Preprocessing"
      ]
    },
    {
      "cell_type": "markdown",
      "metadata": {
        "id": "4ul1kps9E_Vy"
      },
      "source": [
        "> ## Missing value"
      ]
    },
    {
      "cell_type": "code",
      "execution_count": null,
      "metadata": {
        "colab": {
          "base_uri": "https://localhost:8080/"
        },
        "id": "q8JKOqpvFcPY",
        "outputId": "404261b8-3765-46ee-c488-5724d849dd2b"
      },
      "outputs": [
        {
          "output_type": "execute_result",
          "data": {
            "text/plain": [
              "<Axes: >"
            ]
          },
          "metadata": {},
          "execution_count": 31
        },
        {
          "output_type": "display_data",
          "data": {
            "text/plain": [
              "<Figure size 2500x1000 with 2 Axes>"
            ],
            "image/png": "[encoded data removed]"
          },
          "metadata": {}
        }
      ],
      "source": [
        "# Check missing value\n",
        "\n",
        "msno.matrix(df)"
      ]
    },
    {
      "cell_type": "code",
      "execution_count": null,
      "metadata": {
        "id": "1XY_eMRoEtLI"
      },
      "outputs": [],
      "source": [
        "missing_feature = ['max', 'wind_d', 'humidi']"
      ]
    },
    {
      "cell_type": "markdown",
      "metadata": {
        "id": "0MQTZWN__5Ab"
      },
      "source": [
        "> ## Missing probability"
      ]
    },
    {
      "cell_type": "code",
      "execution_count": null,
      "metadata": {
        "colab": {
          "base_uri": "https://localhost:8080/"
        },
        "id": "7SkS-Z1KFu8M",
        "outputId": "f385cc01-b4ac-4da2-8bf4-8565332aeecf"
      },
      "outputs": [
        {
          "output_type": "execute_result",
          "data": {
            "text/plain": [
              "       column name  number of null  percent of missing\n",
              "max            max            1819                 1.0\n",
              "wind_d      wind_d           18196                10.0\n",
              "humidi      humidi            9098                 5.0"
            ],
            "text/html": [
              "\n",
              "\n",
              "  <div id=\"df-388fda49-5a5a-4cbd-8a53-cf864bcf6c0d\">\n",
              "    <div class=\"colab-df-container\">\n",
              "      <div>\n",
              "<style scoped>\n",
              "    .dataframe tbody tr th:only-of-type {\n",
              "        vertical-align: middle;\n",
              "    }\n",
              "\n",
              "    .dataframe tbody tr th {\n",
              "        vertical-align: top;\n",
              "    }\n",
              "\n",
              "    .dataframe thead th {\n",
              "        text-align: right;\n",
              "    }\n",
              "</style>\n",
              "<table border=\"1\" class=\"dataframe\">\n",
              "  <thead>\n",
              "    <tr style=\"text-align: right;\">\n",
              "      <th></th>\n",
              "      <th>column name</th>\n",
              "      <th>number of null</th>\n",
              "      <th>percent of missing</th>\n",
              "    </tr>\n",
              "  </thead>\n",
              "  <tbody>\n",
              "    <tr>\n",
              "      <th>max</th>\n",
              "      <td>max</td>\n",
              "      <td>1819</td>\n",
              "      <td>1.0</td>\n",
              "    </tr>\n",
              "    <tr>\n",
              "      <th>wind_d</th>\n",
              "      <td>wind_d</td>\n",
              "      <td>18196</td>\n",
              "      <td>10.0</td>\n",
              "    </tr>\n",
              "    <tr>\n",
              "      <th>humidi</th>\n",
              "      <td>humidi</td>\n",
              "      <td>9098</td>\n",
              "      <td>5.0</td>\n",
              "    </tr>\n",
              "  </tbody>\n",
              "</table>\n",
              "</div>\n",
              "      <button class=\"colab-df-convert\" onclick=\"convertToInteractive('df-388fda49-5a5a-4cbd-8a53-cf864bcf6c0d')\"\n",
              "              title=\"Convert this dataframe to an interactive table.\"\n",
              "              style=\"display:none;\">\n",
              "\n",
              "  <svg xmlns=\"http://www.w3.org/2000/svg\" height=\"24px\"viewBox=\"0 0 24 24\"\n",
              "       width=\"24px\">\n",
              "    <path d=\"M0 0h24v24H0V0z\" fill=\"none\"/>\n",
              "    <path d=\"M18.56 5.44l.94 2.06.94-2.06 2.06-.94-2.06-.94-.94-2.06-.94 2.06-2.06.94zm-11 1L8.5 8.5l.94-2.06 2.06-.94-2.06-.94L8.5 2.5l-.94 2.06-2.06.94zm10 10l.94 2.06.94-2.06 2.06-.94-2.06-.94-.94-2.06-.94 2.06-2.06.94z\"/><path d=\"M17.41 7.96l-1.37-1.37c-.4-.4-.92-.59-1.43-.59-.52 0-1.04.2-1.43.59L10.3 9.45l-7.72 7.72c-.78.78-.78 2.05 0 2.83L4 21.41c.39.39.9.59 1.41.59.51 0 1.02-.2 1.41-.59l7.78-7.78 2.81-2.81c.8-.78.8-2.07 0-2.86zM5.41 20L4 18.59l7.72-7.72 1.47 1.35L5.41 20z\"/>\n",
              "  </svg>\n",
              "      </button>\n",
              "\n",
              "\n",
              "\n",
              "    <div id=\"df-67091c5a-69e6-4cab-81fa-e83ba33515f0\">\n",
              "      <button class=\"colab-df-quickchart\" onclick=\"quickchart('df-67091c5a-69e6-4cab-81fa-e83ba33515f0')\"\n",
              "              title=\"Suggest charts.\"\n",
              "              style=\"display:none;\">\n",
              "\n",
              "<svg xmlns=\"http://www.w3.org/2000/svg\" height=\"24px\"viewBox=\"0 0 24 24\"\n",
              "     width=\"24px\">\n",
              "    <g>\n",
              "        <path d=\"M19 3H5c-1.1 0-2 .9-2 2v14c0 1.1.9 2 2 2h14c1.1 0 2-.9 2-2V5c0-1.1-.9-2-2-2zM9 17H7v-7h2v7zm4 0h-2V7h2v10zm4 0h-2v-4h2v4z\"/>\n",
              "    </g>\n",
              "</svg>\n",
              "      </button>\n",
              "    </div>\n",
              "\n",
              "<style>\n",
              "  .colab-df-quickchart {\n",
              "    background-color: #E8F0FE;\n",
              "    border: none;\n",
              "    border-radius: 50%;\n",
              "    cursor: pointer;\n",
              "    display: none;\n",
              "    fill: #1967D2;\n",
              "    height: 32px;\n",
              "    padding: 0 0 0 0;\n",
              "    width: 32px;\n",
              "  }\n",
              "\n",
              "  .colab-df-quickchart:hover {\n",
              "    background-color: #E2EBFA;\n",
              "    box-shadow: 0px 1px 2px rgba(60, 64, 67, 0.3), 0px 1px 3px 1px rgba(60, 64, 67, 0.15);\n",
              "    fill: #174EA6;\n",
              "  }\n",
              "\n",
              "  [theme=dark] .colab-df-quickchart {\n",
              "    background-color: #3B4455;\n",
              "    fill: #D2E3FC;\n",
              "  }\n",
              "\n",
              "  [theme=dark] .colab-df-quickchart:hover {\n",
              "    background-color: #434B5C;\n",
              "    box-shadow: 0px 1px 3px 1px rgba(0, 0, 0, 0.15);\n",
              "    filter: drop-shadow(0px 1px 2px rgba(0, 0, 0, 0.3));\n",
              "    fill: #FFFFFF;\n",
              "  }\n",
              "</style>\n",
              "\n",
              "    <script>\n",
              "      async function quickchart(key) {\n",
              "        const containerElement = document.querySelector('#' + key);\n",
              "        const charts = await google.colab.kernel.invokeFunction(\n",
              "            'suggestCharts', [key], {});\n",
              "      }\n",
              "    </script>\n",
              "\n",
              "      <script>\n",
              "\n",
              "function displayQuickchartButton(domScope) {\n",
              "  let quickchartButtonEl =\n",
              "    domScope.querySelector('#df-67091c5a-69e6-4cab-81fa-e83ba33515f0 button.colab-df-quickchart');\n",
              "  quickchartButtonEl.style.display =\n",
              "    google.colab.kernel.accessAllowed ? 'block' : 'none';\n",
              "}\n",
              "\n",
              "        displayQuickchartButton(document);\n",
              "      </script>\n",
              "      <style>\n",
              "    .colab-df-container {\n",
              "      display:flex;\n",
              "      flex-wrap:wrap;\n",
              "      gap: 12px;\n",
              "    }\n",
              "\n",
              "    .colab-df-convert {\n",
              "      background-color: #E8F0FE;\n",
              "      border: none;\n",
              "      border-radius: 50%;\n",
              "      cursor: pointer;\n",
              "      display: none;\n",
              "      fill: #1967D2;\n",
              "      height: 32px;\n",
              "      padding: 0 0 0 0;\n",
              "      width: 32px;\n",
              "    }\n",
              "\n",
              "    .colab-df-convert:hover {\n",
              "      background-color: #E2EBFA;\n",
              "      box-shadow: 0px 1px 2px rgba(60, 64, 67, 0.3), 0px 1px 3px 1px rgba(60, 64, 67, 0.15);\n",
              "      fill: #174EA6;\n",
              "    }\n",
              "\n",
              "    [theme=dark] .colab-df-convert {\n",
              "      background-color: #3B4455;\n",
              "      fill: #D2E3FC;\n",
              "    }\n",
              "\n",
              "    [theme=dark] .colab-df-convert:hover {\n",
              "      background-color: #434B5C;\n",
              "      box-shadow: 0px 1px 3px 1px rgba(0, 0, 0, 0.15);\n",
              "      filter: drop-shadow(0px 1px 2px rgba(0, 0, 0, 0.3));\n",
              "      fill: #FFFFFF;\n",
              "    }\n",
              "  </style>\n",
              "\n",
              "      <script>\n",
              "        const buttonEl =\n",
              "          document.querySelector('#df-388fda49-5a5a-4cbd-8a53-cf864bcf6c0d button.colab-df-convert');\n",
              "        buttonEl.style.display =\n",
              "          google.colab.kernel.accessAllowed ? 'block' : 'none';\n",
              "\n",
              "        async function convertToInteractive(key) {\n",
              "          const element = document.querySelector('#df-388fda49-5a5a-4cbd-8a53-cf864bcf6c0d');\n",
              "          const dataTable =\n",
              "            await google.colab.kernel.invokeFunction('convertToInteractive',\n",
              "                                                     [key], {});\n",
              "          if (!dataTable) return;\n",
              "\n",
              "          const docLinkHtml = 'Like what you see? Visit the ' +\n",
              "            '<a target=\"_blank\" href=https://colab.research.google.com/notebooks/data_table.ipynb>data table notebook</a>'\n",
              "            + ' to learn more about interactive tables.';\n",
              "          element.innerHTML = '';\n",
              "          dataTable['output_type'] = 'display_data';\n",
              "          await google.colab.output.renderOutput(dataTable, element);\n",
              "          const docLink = document.createElement('div');\n",
              "          docLink.innerHTML = docLinkHtml;\n",
              "          element.appendChild(docLink);\n",
              "        }\n",
              "      </script>\n",
              "    </div>\n",
              "  </div>\n"
            ]
          },
          "metadata": {},
          "execution_count": 33
        }
      ],
      "source": [
        "# Missing probability\n",
        "\n",
        "percent_missing = df[missing_feature].isnull().sum()\n",
        "missing_value_df = pd.DataFrame({'column name': missing_feature,\n",
        "                                 'number of null': percent_missing,\n",
        "                                 'percent of missing': percent_missing * 100 / len(df)})\n",
        "\n",
        "missing_value_df['percent of missing'] = missing_value_df['percent of missing'].round(decimals=2)\n",
        "missing_value_df"
      ]
    },
    {
      "cell_type": "markdown",
      "metadata": {
        "id": "mKUoSHYaouR8"
      },
      "source": [
        "> ## Fill missing value"
      ]
    },
    {
      "cell_type": "code",
      "execution_count": null,
      "metadata": {
        "id": "Jgoap20lE6md"
      },
      "outputs": [],
      "source": [
        "# Fill max feature\n",
        "df['max'] = df['max'].bfill()\n",
        "\n",
        "# Fill wind_d feature\n",
        "df['wind_d'] = df['wind_d'].bfill()\n",
        "\n",
        "# Fill humidi feature\n",
        "df['humidi'] = df['humidi'].interpolate()"
      ]
    },
    {
      "cell_type": "markdown",
      "metadata": {
        "id": "eAfzsdNhoMe5"
      },
      "source": [
        "> ## Categorical encoding"
      ]
    },
    {
      "cell_type": "code",
      "execution_count": null,
      "metadata": {
        "id": "rnOZHOqDo5X8"
      },
      "outputs": [],
      "source": [
        "encoded_df = df.copy()"
      ]
    },
    {
      "cell_type": "code",
      "execution_count": null,
      "metadata": {
        "id": "4pXSGwXOXV1G"
      },
      "outputs": [],
      "source": [
        "# Binary encode province feature\n",
        "encoded_df['copy_province'] = encoded_df['province']\n",
        "province_encoder = BinaryEncoder(cols=['copy_province'])\n",
        "encoded_df = province_encoder.fit_transform(encoded_df)"
      ]
    },
    {
      "cell_type": "code",
      "execution_count": null,
      "metadata": {
        "id": "lXdE1l4gX1o_"
      },
      "outputs": [],
      "source": [
        "binary_province_feature = ['copy_province_0', 'copy_province_1', 'copy_province_2', 'copy_province_3', 'copy_province_4', 'copy_province_5']\n",
        "encoded_df[binary_province_feature] = encoded_df[binary_province_feature].astype('int8')"
      ]
    },
    {
      "cell_type": "markdown",
      "metadata": {
        "id": "MbLsoSv_Co3i"
      },
      "source": [
        "> ## Outlier data"
      ]
    },
    {
      "cell_type": "code",
      "execution_count": null,
      "metadata": {
        "id": "N_lVirPkSkZd"
      },
      "outputs": [],
      "source": [
        "def cap_and_floor_outliers_iqr(df, columns, k=1.5):\n",
        "    # Capping and flooring outliers\n",
        "    in_outlier=list()\n",
        "    for column in columns:\n",
        "      Q1 = df[column].quantile(0.25)\n",
        "      Q3 = df[column].quantile(0.75)\n",
        "      IQR = Q3 - Q1\n",
        "\n",
        "      lower_bound = Q1 - k * IQR\n",
        "      upper_bound = Q3 + k * IQR\n",
        "\n",
        "      count= len(df[(df[column] > lower_bound) & (df[column]< upper_bound)])\n",
        "      in_outlier.append(count)\n",
        "\n",
        "      df[column] = df[column].clip(lower_bound, upper_bound)\n",
        "\n",
        "    return df, in_outlier"
      ]
    },
    {
      "cell_type": "code",
      "execution_count": null,
      "metadata": {
        "id": "KSJk_XvmW0NP"
      },
      "outputs": [],
      "source": [
        "encoded_df, _ = cap_and_floor_outliers_iqr(encoded_df, ['max', 'min', 'pressure', 'humidi', 'cloud', 'wind'])"
      ]
    },
    {
      "cell_type": "markdown",
      "metadata": {
        "id": "I-azsML9Zwh2"
      },
      "source": [
        "> ## Scaling data\n"
      ]
    },
    {
      "cell_type": "code",
      "execution_count": null,
      "metadata": {
        "id": "YLdSq0O329sj"
      },
      "outputs": [],
      "source": [
        "# Select feature\n",
        "\n",
        "provinces = ['province', 'copy_province_0', 'copy_province_1','copy_province_2', 'copy_province_3', 'copy_province_4','copy_province_5']\n",
        "normalize_feature = ['max', 'min', 'rain', 'pressure', 'humidi', 'cloud', 'wind']\n",
        "num_feature = len(normalize_feature)"
      ]
    },
    {
      "cell_type": "code",
      "execution_count": null,
      "metadata": {
        "id": "RtwW5qjvlL4R"
      },
      "outputs": [],
      "source": [
        "from sklearn.preprocessing import MinMaxScaler\n",
        "\n",
        "# Min max scale\n",
        "scaled_columns = ['_'.join(['scaled', column]) for column in normalize_feature]\n",
        "\n",
        "scaler = MinMaxScaler()\n",
        "scaled_data = scaler.fit_transform(encoded_df[normalize_feature])\n",
        "encoded_df[scaled_columns] = pd.DataFrame(scaled_data, columns=scaled_columns)"
      ]
    },
    {
      "cell_type": "markdown",
      "metadata": {
        "id": "eMx9vutEoEpV"
      },
      "source": [
        "# Modeling"
      ]
    },
    {
      "cell_type": "markdown",
      "metadata": {
        "id": "NemNISBrvaSU"
      },
      "source": [
        "> ## Import"
      ]
    },
    {
      "cell_type": "code",
      "execution_count": null,
      "metadata": {
        "id": "_S3FAN8YP0hN"
      },
      "outputs": [],
      "source": [
        "import tensorflow as tf\n",
        "from tensorflow.keras.models import Sequential\n",
        "from tensorflow.keras.layers import GRU, Dense\n",
        "from tensorflow.keras.callbacks import EarlyStopping"
      ]
    },
    {
      "cell_type": "markdown",
      "metadata": {
        "id": "hagnjnCyinTP"
      },
      "source": [
        "> ## GRU"
      ]
    },
    {
      "cell_type": "markdown",
      "metadata": {
        "id": "mo75Kv0f5Wod"
      },
      "source": [
        ">> #### Data selecting"
      ]
    },
    {
      "cell_type": "code",
      "execution_count": null,
      "metadata": {
        "colab": {
          "base_uri": "https://localhost:8080/"
        },
        "id": "QWPvilvm5dxe",
        "outputId": "bc617910-d51f-41d3-efb1-5f81815faf14"
      },
      "outputs": [
        {
          "output_type": "stream",
          "name": "stdout",
          "text": [
            "<class 'pandas.core.frame.DataFrame'>\n",
            "RangeIndex: 181960 entries, 0 to 181959\n",
            "Data columns (total 14 columns):\n",
            " #   Column           Non-Null Count   Dtype  \n",
            "---  ------           --------------   -----  \n",
            " 0   province         181960 non-null  object \n",
            " 1   copy_province_0  181960 non-null  int8   \n",
            " 2   copy_province_1  181960 non-null  int8   \n",
            " 3   copy_province_2  181960 non-null  int8   \n",
            " 4   copy_province_3  181960 non-null  int8   \n",
            " 5   copy_province_4  181960 non-null  int8   \n",
            " 6   copy_province_5  181960 non-null  int8   \n",
            " 7   scaled_max       181960 non-null  float64\n",
            " 8   scaled_min       181960 non-null  float64\n",
            " 9   scaled_rain      181960 non-null  float64\n",
            " 10  scaled_pressure  181960 non-null  float64\n",
            " 11  scaled_humidi    181960 non-null  float64\n",
            " 12  scaled_cloud     181960 non-null  float64\n",
            " 13  scaled_wind      181960 non-null  float64\n",
            "dtypes: float64(7), int8(6), object(1)\n",
            "memory usage: 12.1+ MB\n"
          ]
        }
      ],
      "source": [
        "selected_df = encoded_df[provinces+scaled_columns]\n",
        "\n",
        "selected_df.info()"
      ]
    },
    {
      "cell_type": "markdown",
      "metadata": {
        "id": "M4OT4WY85dEs"
      },
      "source": [
        ">> #### Create dataset"
      ]
    },
    {
      "cell_type": "code",
      "execution_count": null,
      "metadata": {
        "id": "Y8vKhaaXnNbz"
      },
      "outputs": [],
      "source": [
        "from tqdm import tqdm\n",
        "\n",
        "def create_dataset(data, past, step, target, distin_feature, fureture_length=1, ratio=None, mode=None):\n",
        "\n",
        "  target_data = data[target]\n",
        "\n",
        "  if mode != None:\n",
        "    X_val = []\n",
        "    Y_val = []\n",
        "\n",
        "    for obj in data[distin_feature].unique():\n",
        "      x_val = data\n",
        "      y_val = target_data\n",
        "\n",
        "      print(f\"\\n\\n\\nProvince {obj}\")\n",
        "      print('Validation data')\n",
        "      for i in tqdm(range(len(x_val)-(past+fureture_length))):\n",
        "        X_val.append(x_val.drop(distin_feature, axis=1).values[range(i, i+past, step)].tolist())\n",
        "        Y_val.append(y_val.drop(distin_feature, axis=1).values[(i+past):(i+past+fureture_length)].flatten().tolist())\n",
        "\n",
        "    return X_val, Y_val\n",
        "\n",
        "  else:\n",
        "    X_train = []\n",
        "    Y_train = []\n",
        "    X_val = []\n",
        "    Y_val = []\n",
        "\n",
        "    for obj in data[distin_feature].unique():\n",
        "      provine_data = data[data[distin_feature]==obj]\n",
        "      target_feature = target_data[target_data[distin_feature]==obj]\n",
        "      split = int(len(provine_data)*ratio)\n",
        "\n",
        "      x_train = provine_data[:split]\n",
        "      x_val = provine_data[split:]\n",
        "\n",
        "      y_train = target_feature[:split]\n",
        "      y_val = target_feature[split:]\n",
        "\n",
        "      print(f\"\\n\\n\\nProvince {obj}\")\n",
        "      print(f'Training data')\n",
        "      for i in tqdm(range(len(x_train)-(past+fureture_length))):\n",
        "        X_train.append(x_train.drop(distin_feature, axis=1).values[range(i, i+past, step)].tolist())\n",
        "        Y_train.append(y_train.drop(distin_feature, axis=1).values[(i+past):(i+past+fureture_length)].flatten().tolist())\n",
        "\n",
        "\n",
        "      print('Validation data')\n",
        "      for i in tqdm(range(len(x_val)-(past+fureture_length))):\n",
        "        X_val.append(x_val.drop(distin_feature, axis=1).values[range(i, i+past, step)].tolist())\n",
        "        Y_val.append(y_val.drop(distin_feature, axis=1).values[(i+past):(i+past+fureture_length)].flatten().tolist())\n",
        "\n",
        "  return np.array(X_train), np.array(Y_train), np.array(X_val), np.array(Y_val)"
      ]
    },
    {
      "cell_type": "code",
      "execution_count": null,
      "metadata": {
        "id": "rtNrHDJwp-3i"
      },
      "outputs": [],
      "source": [
        "# Parameters\n",
        "\n",
        "past = 60 # Number of days in the past used to predict\n",
        "step = 1 # Distance between days\n",
        "distin_feature = 'province'\n",
        "target = scaled_columns + ['province']\n",
        "df_length = len(selected_df)\n",
        "future_length = 5\n",
        "ratio = 0.8"
      ]
    },
    {
      "cell_type": "code",
      "source": [
        "target"
      ],
      "metadata": {
        "colab": {
          "base_uri": "https://localhost:8080/"
        },
        "id": "ueeqZKjt_mxj",
        "outputId": "90cbe87a-7029-4cb3-969e-d43ea5a6a068"
      },
      "execution_count": null,
      "outputs": [
        {
          "output_type": "execute_result",
          "data": {
            "text/plain": [
              "['scaled_max',\n",
              " 'scaled_min',\n",
              " 'scaled_rain',\n",
              " 'scaled_pressure',\n",
              " 'scaled_humidi',\n",
              " 'scaled_cloud',\n",
              " 'scaled_wind',\n",
              " 'province']"
            ]
          },
          "metadata": {},
          "execution_count": 46
        }
      ]
    },
    {
      "cell_type": "code",
      "execution_count": null,
      "metadata": {
        "colab": {
          "base_uri": "https://localhost:8080/"
        },
        "id": "JHz68-pp3XS7",
        "outputId": "9a26f234-132e-420d-e998-520419f048bc"
      },
      "outputs": [
        {
          "output_type": "stream",
          "name": "stdout",
          "text": [
            "\n",
            "\n",
            "\n",
            "Province Bac Lieu\n",
            "Training data\n"
          ]
        },
        {
          "output_type": "stream",
          "name": "stderr",
          "text": [
            "100%|██████████| 3574/3574 [00:04<00:00, 757.38it/s]\n"
          ]
        },
        {
          "output_type": "stream",
          "name": "stdout",
          "text": [
            "Validation data\n"
          ]
        },
        {
          "output_type": "stream",
          "name": "stderr",
          "text": [
            "100%|██████████| 845/845 [00:00<00:00, 931.22it/s]\n"
          ]
        },
        {
          "output_type": "stream",
          "name": "stdout",
          "text": [
            "\n",
            "\n",
            "\n",
            "Province Ben Tre\n",
            "Training data\n"
          ]
        },
        {
          "output_type": "stream",
          "name": "stderr",
          "text": [
            "100%|██████████| 3574/3574 [00:04<00:00, 842.06it/s]\n"
          ]
        },
        {
          "output_type": "stream",
          "name": "stdout",
          "text": [
            "Validation data\n"
          ]
        },
        {
          "output_type": "stream",
          "name": "stderr",
          "text": [
            "100%|██████████| 845/845 [00:00<00:00, 972.95it/s]\n"
          ]
        },
        {
          "output_type": "stream",
          "name": "stdout",
          "text": [
            "\n",
            "\n",
            "\n",
            "Province Bien Hoa\n",
            "Training data\n"
          ]
        },
        {
          "output_type": "stream",
          "name": "stderr",
          "text": [
            "100%|██████████| 3574/3574 [00:05<00:00, 696.42it/s]\n"
          ]
        },
        {
          "output_type": "stream",
          "name": "stdout",
          "text": [
            "Validation data\n"
          ]
        },
        {
          "output_type": "stream",
          "name": "stderr",
          "text": [
            "100%|██████████| 845/845 [00:00<00:00, 943.67it/s]\n"
          ]
        },
        {
          "output_type": "stream",
          "name": "stdout",
          "text": [
            "\n",
            "\n",
            "\n",
            "Province Buon Me Thuot\n",
            "Training data\n"
          ]
        },
        {
          "output_type": "stream",
          "name": "stderr",
          "text": [
            "100%|██████████| 3574/3574 [00:05<00:00, 701.03it/s]\n"
          ]
        },
        {
          "output_type": "stream",
          "name": "stdout",
          "text": [
            "Validation data\n"
          ]
        },
        {
          "output_type": "stream",
          "name": "stderr",
          "text": [
            "100%|██████████| 845/845 [00:00<00:00, 860.35it/s]\n"
          ]
        },
        {
          "output_type": "stream",
          "name": "stdout",
          "text": [
            "\n",
            "\n",
            "\n",
            "Province Ca Mau\n",
            "Training data\n"
          ]
        },
        {
          "output_type": "stream",
          "name": "stderr",
          "text": [
            "100%|██████████| 3574/3574 [00:05<00:00, 689.85it/s]\n"
          ]
        },
        {
          "output_type": "stream",
          "name": "stdout",
          "text": [
            "Validation data\n"
          ]
        },
        {
          "output_type": "stream",
          "name": "stderr",
          "text": [
            "100%|██████████| 845/845 [00:00<00:00, 883.80it/s]\n"
          ]
        },
        {
          "output_type": "stream",
          "name": "stdout",
          "text": [
            "\n",
            "\n",
            "\n",
            "Province Cam Pha\n",
            "Training data\n"
          ]
        },
        {
          "output_type": "stream",
          "name": "stderr",
          "text": [
            "100%|██████████| 3574/3574 [00:04<00:00, 805.88it/s]\n"
          ]
        },
        {
          "output_type": "stream",
          "name": "stdout",
          "text": [
            "Validation data\n"
          ]
        },
        {
          "output_type": "stream",
          "name": "stderr",
          "text": [
            "100%|██████████| 845/845 [00:00<00:00, 903.81it/s]\n"
          ]
        },
        {
          "output_type": "stream",
          "name": "stdout",
          "text": [
            "\n",
            "\n",
            "\n",
            "Province Cam Ranh\n",
            "Training data\n"
          ]
        },
        {
          "output_type": "stream",
          "name": "stderr",
          "text": [
            "100%|██████████| 3574/3574 [00:03<00:00, 918.43it/s]\n"
          ]
        },
        {
          "output_type": "stream",
          "name": "stdout",
          "text": [
            "Validation data\n"
          ]
        },
        {
          "output_type": "stream",
          "name": "stderr",
          "text": [
            "100%|██████████| 845/845 [00:01<00:00, 741.86it/s]\n"
          ]
        },
        {
          "output_type": "stream",
          "name": "stdout",
          "text": [
            "\n",
            "\n",
            "\n",
            "Province Can Tho\n",
            "Training data\n"
          ]
        },
        {
          "output_type": "stream",
          "name": "stderr",
          "text": [
            "100%|██████████| 3574/3574 [00:04<00:00, 726.66it/s]\n"
          ]
        },
        {
          "output_type": "stream",
          "name": "stdout",
          "text": [
            "Validation data\n"
          ]
        },
        {
          "output_type": "stream",
          "name": "stderr",
          "text": [
            "100%|██████████| 845/845 [00:00<00:00, 949.85it/s]\n"
          ]
        },
        {
          "output_type": "stream",
          "name": "stdout",
          "text": [
            "\n",
            "\n",
            "\n",
            "Province Chau Doc\n",
            "Training data\n"
          ]
        },
        {
          "output_type": "stream",
          "name": "stderr",
          "text": [
            "100%|██████████| 3574/3574 [00:03<00:00, 954.95it/s]\n"
          ]
        },
        {
          "output_type": "stream",
          "name": "stdout",
          "text": [
            "Validation data\n"
          ]
        },
        {
          "output_type": "stream",
          "name": "stderr",
          "text": [
            "100%|██████████| 845/845 [00:00<00:00, 985.06it/s]\n"
          ]
        },
        {
          "output_type": "stream",
          "name": "stdout",
          "text": [
            "\n",
            "\n",
            "\n",
            "Province Da Lat\n",
            "Training data\n"
          ]
        },
        {
          "output_type": "stream",
          "name": "stderr",
          "text": [
            "100%|██████████| 3574/3574 [00:04<00:00, 794.94it/s]\n"
          ]
        },
        {
          "output_type": "stream",
          "name": "stdout",
          "text": [
            "Validation data\n"
          ]
        },
        {
          "output_type": "stream",
          "name": "stderr",
          "text": [
            "100%|██████████| 845/845 [00:01<00:00, 481.26it/s]\n"
          ]
        },
        {
          "output_type": "stream",
          "name": "stdout",
          "text": [
            "\n",
            "\n",
            "\n",
            "Province Ha Noi\n",
            "Training data\n"
          ]
        },
        {
          "output_type": "stream",
          "name": "stderr",
          "text": [
            "100%|██████████| 3574/3574 [00:03<00:00, 940.14it/s]\n"
          ]
        },
        {
          "output_type": "stream",
          "name": "stdout",
          "text": [
            "Validation data\n"
          ]
        },
        {
          "output_type": "stream",
          "name": "stderr",
          "text": [
            "100%|██████████| 845/845 [00:00<00:00, 993.59it/s]\n"
          ]
        },
        {
          "output_type": "stream",
          "name": "stdout",
          "text": [
            "\n",
            "\n",
            "\n",
            "Province Hai Duong\n",
            "Training data\n"
          ]
        },
        {
          "output_type": "stream",
          "name": "stderr",
          "text": [
            "100%|██████████| 3574/3574 [00:04<00:00, 811.67it/s]\n"
          ]
        },
        {
          "output_type": "stream",
          "name": "stdout",
          "text": [
            "Validation data\n"
          ]
        },
        {
          "output_type": "stream",
          "name": "stderr",
          "text": [
            "100%|██████████| 845/845 [00:01<00:00, 825.23it/s]\n"
          ]
        },
        {
          "output_type": "stream",
          "name": "stdout",
          "text": [
            "\n",
            "\n",
            "\n",
            "Province Hai Phong\n",
            "Training data\n"
          ]
        },
        {
          "output_type": "stream",
          "name": "stderr",
          "text": [
            "100%|██████████| 3574/3574 [00:03<00:00, 948.75it/s]\n"
          ]
        },
        {
          "output_type": "stream",
          "name": "stdout",
          "text": [
            "Validation data\n"
          ]
        },
        {
          "output_type": "stream",
          "name": "stderr",
          "text": [
            "100%|██████████| 845/845 [00:00<00:00, 887.33it/s]\n"
          ]
        },
        {
          "output_type": "stream",
          "name": "stdout",
          "text": [
            "\n",
            "\n",
            "\n",
            "Province Hanoi\n",
            "Training data\n"
          ]
        },
        {
          "output_type": "stream",
          "name": "stderr",
          "text": [
            "100%|██████████| 3574/3574 [00:05<00:00, 709.69it/s]\n"
          ]
        },
        {
          "output_type": "stream",
          "name": "stdout",
          "text": [
            "Validation data\n"
          ]
        },
        {
          "output_type": "stream",
          "name": "stderr",
          "text": [
            "100%|██████████| 845/845 [00:01<00:00, 725.01it/s]\n"
          ]
        },
        {
          "output_type": "stream",
          "name": "stdout",
          "text": [
            "\n",
            "\n",
            "\n",
            "Province Ho Chi Minh City\n",
            "Training data\n"
          ]
        },
        {
          "output_type": "stream",
          "name": "stderr",
          "text": [
            "100%|██████████| 3574/3574 [00:03<00:00, 895.66it/s]\n"
          ]
        },
        {
          "output_type": "stream",
          "name": "stdout",
          "text": [
            "Validation data\n"
          ]
        },
        {
          "output_type": "stream",
          "name": "stderr",
          "text": [
            "100%|██████████| 845/845 [00:00<00:00, 960.45it/s]\n"
          ]
        },
        {
          "output_type": "stream",
          "name": "stdout",
          "text": [
            "\n",
            "\n",
            "\n",
            "Province Hoa Binh\n",
            "Training data\n"
          ]
        },
        {
          "output_type": "stream",
          "name": "stderr",
          "text": [
            "100%|██████████| 3574/3574 [00:03<00:00, 960.83it/s]\n"
          ]
        },
        {
          "output_type": "stream",
          "name": "stdout",
          "text": [
            "Validation data\n"
          ]
        },
        {
          "output_type": "stream",
          "name": "stderr",
          "text": [
            "100%|██████████| 845/845 [00:00<00:00, 964.13it/s]\n"
          ]
        },
        {
          "output_type": "stream",
          "name": "stdout",
          "text": [
            "\n",
            "\n",
            "\n",
            "Province Hong Gai\n",
            "Training data\n"
          ]
        },
        {
          "output_type": "stream",
          "name": "stderr",
          "text": [
            "100%|██████████| 3574/3574 [00:04<00:00, 783.94it/s]\n"
          ]
        },
        {
          "output_type": "stream",
          "name": "stdout",
          "text": [
            "Validation data\n"
          ]
        },
        {
          "output_type": "stream",
          "name": "stderr",
          "text": [
            "100%|██████████| 845/845 [00:00<00:00, 961.62it/s]\n"
          ]
        },
        {
          "output_type": "stream",
          "name": "stdout",
          "text": [
            "\n",
            "\n",
            "\n",
            "Province Hue\n",
            "Training data\n"
          ]
        },
        {
          "output_type": "stream",
          "name": "stderr",
          "text": [
            "100%|██████████| 3574/3574 [00:05<00:00, 694.16it/s]\n"
          ]
        },
        {
          "output_type": "stream",
          "name": "stdout",
          "text": [
            "Validation data\n"
          ]
        },
        {
          "output_type": "stream",
          "name": "stderr",
          "text": [
            "100%|██████████| 845/845 [00:00<00:00, 942.87it/s]\n"
          ]
        },
        {
          "output_type": "stream",
          "name": "stdout",
          "text": [
            "\n",
            "\n",
            "\n",
            "Province Long Xuyen\n",
            "Training data\n"
          ]
        },
        {
          "output_type": "stream",
          "name": "stderr",
          "text": [
            "100%|██████████| 3574/3574 [00:04<00:00, 819.64it/s]\n"
          ]
        },
        {
          "output_type": "stream",
          "name": "stdout",
          "text": [
            "Validation data\n"
          ]
        },
        {
          "output_type": "stream",
          "name": "stderr",
          "text": [
            "100%|██████████| 845/845 [00:01<00:00, 839.43it/s]\n"
          ]
        },
        {
          "output_type": "stream",
          "name": "stdout",
          "text": [
            "\n",
            "\n",
            "\n",
            "Province My Tho\n",
            "Training data\n"
          ]
        },
        {
          "output_type": "stream",
          "name": "stderr",
          "text": [
            "100%|██████████| 3574/3574 [00:03<00:00, 960.79it/s]\n"
          ]
        },
        {
          "output_type": "stream",
          "name": "stdout",
          "text": [
            "Validation data\n"
          ]
        },
        {
          "output_type": "stream",
          "name": "stderr",
          "text": [
            "100%|██████████| 845/845 [00:00<00:00, 949.00it/s]\n"
          ]
        },
        {
          "output_type": "stream",
          "name": "stdout",
          "text": [
            "\n",
            "\n",
            "\n",
            "Province Nam Dinh\n",
            "Training data\n"
          ]
        },
        {
          "output_type": "stream",
          "name": "stderr",
          "text": [
            "100%|██████████| 3574/3574 [00:07<00:00, 510.51it/s]\n"
          ]
        },
        {
          "output_type": "stream",
          "name": "stdout",
          "text": [
            "Validation data\n"
          ]
        },
        {
          "output_type": "stream",
          "name": "stderr",
          "text": [
            "100%|██████████| 845/845 [00:02<00:00, 416.60it/s]\n"
          ]
        },
        {
          "output_type": "stream",
          "name": "stdout",
          "text": [
            "\n",
            "\n",
            "\n",
            "Province Nha Trang\n",
            "Training data\n"
          ]
        },
        {
          "output_type": "stream",
          "name": "stderr",
          "text": [
            "100%|██████████| 3574/3574 [00:08<00:00, 440.37it/s]\n"
          ]
        },
        {
          "output_type": "stream",
          "name": "stdout",
          "text": [
            "Validation data\n"
          ]
        },
        {
          "output_type": "stream",
          "name": "stderr",
          "text": [
            "100%|██████████| 845/845 [00:02<00:00, 351.35it/s]\n"
          ]
        },
        {
          "output_type": "stream",
          "name": "stdout",
          "text": [
            "\n",
            "\n",
            "\n",
            "Province Phan Rang\n",
            "Training data\n"
          ]
        },
        {
          "output_type": "stream",
          "name": "stderr",
          "text": [
            "100%|██████████| 3574/3574 [00:06<00:00, 570.45it/s]\n"
          ]
        },
        {
          "output_type": "stream",
          "name": "stdout",
          "text": [
            "Validation data\n"
          ]
        },
        {
          "output_type": "stream",
          "name": "stderr",
          "text": [
            "100%|██████████| 845/845 [00:00<00:00, 970.38it/s] \n"
          ]
        },
        {
          "output_type": "stream",
          "name": "stdout",
          "text": [
            "\n",
            "\n",
            "\n",
            "Province Phan Thiet\n",
            "Training data\n"
          ]
        },
        {
          "output_type": "stream",
          "name": "stderr",
          "text": [
            "100%|██████████| 3574/3574 [00:03<00:00, 957.61it/s]\n"
          ]
        },
        {
          "output_type": "stream",
          "name": "stdout",
          "text": [
            "Validation data\n"
          ]
        },
        {
          "output_type": "stream",
          "name": "stderr",
          "text": [
            "100%|██████████| 845/845 [00:01<00:00, 805.59it/s]\n"
          ]
        },
        {
          "output_type": "stream",
          "name": "stdout",
          "text": [
            "\n",
            "\n",
            "\n",
            "Province Play Cu\n",
            "Training data\n"
          ]
        },
        {
          "output_type": "stream",
          "name": "stderr",
          "text": [
            "100%|██████████| 3574/3574 [00:04<00:00, 832.58it/s]\n"
          ]
        },
        {
          "output_type": "stream",
          "name": "stdout",
          "text": [
            "Validation data\n"
          ]
        },
        {
          "output_type": "stream",
          "name": "stderr",
          "text": [
            "100%|██████████| 845/845 [00:00<00:00, 919.43it/s]\n"
          ]
        },
        {
          "output_type": "stream",
          "name": "stdout",
          "text": [
            "\n",
            "\n",
            "\n",
            "Province Qui Nhon\n",
            "Training data\n"
          ]
        },
        {
          "output_type": "stream",
          "name": "stderr",
          "text": [
            "100%|██████████| 3574/3574 [00:03<00:00, 956.51it/s]\n"
          ]
        },
        {
          "output_type": "stream",
          "name": "stdout",
          "text": [
            "Validation data\n"
          ]
        },
        {
          "output_type": "stream",
          "name": "stderr",
          "text": [
            "100%|██████████| 845/845 [00:00<00:00, 940.41it/s]\n"
          ]
        },
        {
          "output_type": "stream",
          "name": "stdout",
          "text": [
            "\n",
            "\n",
            "\n",
            "Province Rach Gia\n",
            "Training data\n"
          ]
        },
        {
          "output_type": "stream",
          "name": "stderr",
          "text": [
            "100%|██████████| 3574/3574 [00:04<00:00, 796.50it/s]\n"
          ]
        },
        {
          "output_type": "stream",
          "name": "stdout",
          "text": [
            "Validation data\n"
          ]
        },
        {
          "output_type": "stream",
          "name": "stderr",
          "text": [
            "100%|██████████| 845/845 [00:00<00:00, 946.40it/s]\n"
          ]
        },
        {
          "output_type": "stream",
          "name": "stdout",
          "text": [
            "\n",
            "\n",
            "\n",
            "Province Soc Trang\n",
            "Training data\n"
          ]
        },
        {
          "output_type": "stream",
          "name": "stderr",
          "text": [
            "100%|██████████| 3574/3574 [00:03<00:00, 928.60it/s]\n"
          ]
        },
        {
          "output_type": "stream",
          "name": "stdout",
          "text": [
            "Validation data\n"
          ]
        },
        {
          "output_type": "stream",
          "name": "stderr",
          "text": [
            "100%|██████████| 845/845 [00:00<00:00, 921.19it/s]\n"
          ]
        },
        {
          "output_type": "stream",
          "name": "stdout",
          "text": [
            "\n",
            "\n",
            "\n",
            "Province Tam Ky\n",
            "Training data\n"
          ]
        },
        {
          "output_type": "stream",
          "name": "stderr",
          "text": [
            "100%|██████████| 3574/3574 [00:06<00:00, 587.19it/s]\n"
          ]
        },
        {
          "output_type": "stream",
          "name": "stdout",
          "text": [
            "Validation data\n"
          ]
        },
        {
          "output_type": "stream",
          "name": "stderr",
          "text": [
            "100%|██████████| 845/845 [00:01<00:00, 832.13it/s]\n"
          ]
        },
        {
          "output_type": "stream",
          "name": "stdout",
          "text": [
            "\n",
            "\n",
            "\n",
            "Province Tan An\n",
            "Training data\n"
          ]
        },
        {
          "output_type": "stream",
          "name": "stderr",
          "text": [
            "100%|██████████| 3574/3574 [00:03<00:00, 954.62it/s]\n"
          ]
        },
        {
          "output_type": "stream",
          "name": "stdout",
          "text": [
            "Validation data\n"
          ]
        },
        {
          "output_type": "stream",
          "name": "stderr",
          "text": [
            "100%|██████████| 845/845 [00:00<00:00, 975.98it/s]\n"
          ]
        },
        {
          "output_type": "stream",
          "name": "stdout",
          "text": [
            "\n",
            "\n",
            "\n",
            "Province Thai Nguyen\n",
            "Training data\n"
          ]
        },
        {
          "output_type": "stream",
          "name": "stderr",
          "text": [
            "100%|██████████| 3574/3574 [00:03<00:00, 936.20it/s]\n"
          ]
        },
        {
          "output_type": "stream",
          "name": "stdout",
          "text": [
            "Validation data\n"
          ]
        },
        {
          "output_type": "stream",
          "name": "stderr",
          "text": [
            "100%|██████████| 845/845 [00:00<00:00, 904.64it/s]\n"
          ]
        },
        {
          "output_type": "stream",
          "name": "stdout",
          "text": [
            "\n",
            "\n",
            "\n",
            "Province Thanh Hoa\n",
            "Training data\n"
          ]
        },
        {
          "output_type": "stream",
          "name": "stderr",
          "text": [
            "100%|██████████| 3574/3574 [00:04<00:00, 777.07it/s]\n"
          ]
        },
        {
          "output_type": "stream",
          "name": "stdout",
          "text": [
            "Validation data\n"
          ]
        },
        {
          "output_type": "stream",
          "name": "stderr",
          "text": [
            "100%|██████████| 845/845 [00:00<00:00, 953.74it/s]\n"
          ]
        },
        {
          "output_type": "stream",
          "name": "stdout",
          "text": [
            "\n",
            "\n",
            "\n",
            "Province Tra Vinh\n",
            "Training data\n"
          ]
        },
        {
          "output_type": "stream",
          "name": "stderr",
          "text": [
            "100%|██████████| 3574/3574 [00:03<00:00, 956.65it/s]\n"
          ]
        },
        {
          "output_type": "stream",
          "name": "stdout",
          "text": [
            "Validation data\n"
          ]
        },
        {
          "output_type": "stream",
          "name": "stderr",
          "text": [
            "100%|██████████| 845/845 [00:00<00:00, 916.47it/s]\n"
          ]
        },
        {
          "output_type": "stream",
          "name": "stdout",
          "text": [
            "\n",
            "\n",
            "\n",
            "Province Tuy Hoa\n",
            "Training data\n"
          ]
        },
        {
          "output_type": "stream",
          "name": "stderr",
          "text": [
            "100%|██████████| 3574/3574 [00:04<00:00, 784.85it/s]\n"
          ]
        },
        {
          "output_type": "stream",
          "name": "stdout",
          "text": [
            "Validation data\n"
          ]
        },
        {
          "output_type": "stream",
          "name": "stderr",
          "text": [
            "100%|██████████| 845/845 [00:00<00:00, 871.73it/s]\n"
          ]
        },
        {
          "output_type": "stream",
          "name": "stdout",
          "text": [
            "\n",
            "\n",
            "\n",
            "Province Uong Bi\n",
            "Training data\n"
          ]
        },
        {
          "output_type": "stream",
          "name": "stderr",
          "text": [
            "100%|██████████| 3574/3574 [00:03<00:00, 956.58it/s]\n"
          ]
        },
        {
          "output_type": "stream",
          "name": "stdout",
          "text": [
            "Validation data\n"
          ]
        },
        {
          "output_type": "stream",
          "name": "stderr",
          "text": [
            "100%|██████████| 845/845 [00:00<00:00, 934.26it/s]\n"
          ]
        },
        {
          "output_type": "stream",
          "name": "stdout",
          "text": [
            "\n",
            "\n",
            "\n",
            "Province Viet Tri\n",
            "Training data\n"
          ]
        },
        {
          "output_type": "stream",
          "name": "stderr",
          "text": [
            "100%|██████████| 3574/3574 [00:03<00:00, 952.10it/s]\n"
          ]
        },
        {
          "output_type": "stream",
          "name": "stdout",
          "text": [
            "Validation data\n"
          ]
        },
        {
          "output_type": "stream",
          "name": "stderr",
          "text": [
            "100%|██████████| 845/845 [00:00<00:00, 934.00it/s]\n"
          ]
        },
        {
          "output_type": "stream",
          "name": "stdout",
          "text": [
            "\n",
            "\n",
            "\n",
            "Province Vinh\n",
            "Training data\n"
          ]
        },
        {
          "output_type": "stream",
          "name": "stderr",
          "text": [
            "100%|██████████| 3574/3574 [00:06<00:00, 513.38it/s]\n"
          ]
        },
        {
          "output_type": "stream",
          "name": "stdout",
          "text": [
            "Validation data\n"
          ]
        },
        {
          "output_type": "stream",
          "name": "stderr",
          "text": [
            "100%|██████████| 845/845 [00:00<00:00, 931.37it/s]\n"
          ]
        },
        {
          "output_type": "stream",
          "name": "stdout",
          "text": [
            "\n",
            "\n",
            "\n",
            "Province Vinh Long\n",
            "Training data\n"
          ]
        },
        {
          "output_type": "stream",
          "name": "stderr",
          "text": [
            "100%|██████████| 3574/3574 [00:05<00:00, 689.95it/s]\n"
          ]
        },
        {
          "output_type": "stream",
          "name": "stdout",
          "text": [
            "Validation data\n"
          ]
        },
        {
          "output_type": "stream",
          "name": "stderr",
          "text": [
            "100%|██████████| 845/845 [00:01<00:00, 726.78it/s]\n"
          ]
        },
        {
          "output_type": "stream",
          "name": "stdout",
          "text": [
            "\n",
            "\n",
            "\n",
            "Province Vung Tau\n",
            "Training data\n"
          ]
        },
        {
          "output_type": "stream",
          "name": "stderr",
          "text": [
            "100%|██████████| 3574/3574 [00:04<00:00, 872.92it/s]\n"
          ]
        },
        {
          "output_type": "stream",
          "name": "stdout",
          "text": [
            "Validation data\n"
          ]
        },
        {
          "output_type": "stream",
          "name": "stderr",
          "text": [
            "100%|██████████| 845/845 [00:00<00:00, 929.84it/s]\n"
          ]
        },
        {
          "output_type": "stream",
          "name": "stdout",
          "text": [
            "\n",
            "\n",
            "\n",
            "Province Yen Bai\n",
            "Training data\n"
          ]
        },
        {
          "output_type": "stream",
          "name": "stderr",
          "text": [
            "100%|██████████| 3574/3574 [00:03<00:00, 947.41it/s]\n"
          ]
        },
        {
          "output_type": "stream",
          "name": "stdout",
          "text": [
            "Validation data\n"
          ]
        },
        {
          "output_type": "stream",
          "name": "stderr",
          "text": [
            "100%|██████████| 845/845 [00:00<00:00, 942.39it/s]\n"
          ]
        }
      ],
      "source": [
        "X_train, Y_train, X_val, Y_val = create_dataset(selected_df, past, step, target, distin_feature, future_length, ratio)"
      ]
    },
    {
      "cell_type": "markdown",
      "metadata": {
        "id": "pq99ALx7-CB7"
      },
      "source": [
        ">> #### Training"
      ]
    },
    {
      "cell_type": "code",
      "execution_count": null,
      "metadata": {
        "colab": {
          "base_uri": "https://localhost:8080/"
        },
        "id": "FUlmWF7hioEm",
        "outputId": "c1989dbb-3153-452e-b5d8-6537fbb740bc"
      },
      "outputs": [
        {
          "output_type": "stream",
          "name": "stdout",
          "text": [
            "Device mapping:\n",
            "/job:localhost/replica:0/task:0/device:GPU:0 -> device: 0, name: Tesla T4, pci bus id: 0000:00:04.0, compute capability: 7.5\n",
            "\n"
          ]
        }
      ],
      "source": [
        "sess = tf.compat.v1.Session(config=tf.compat.v1.ConfigProto(log_device_placement=True))"
      ]
    },
    {
      "cell_type": "code",
      "execution_count": null,
      "metadata": {
        "id": "_jsQykw1-NW7"
      },
      "outputs": [],
      "source": [
        "input_shape = past, len(selected_df.columns)-1\n",
        "output_shape = future_length*(len(target)-1)\n",
        "\n",
        "model = Sequential()\n",
        "model.add(GRU(300, return_sequences= True, input_shape= input_shape))\n",
        "model.add(GRU(200, return_sequences= True))\n",
        "model.add(GRU(200, return_sequences= True))\n",
        "model.add(GRU(200))\n",
        "model.add(Dense(output_shape))\n",
        "model.compile(loss = 'mean_squared_error', optimizer = 'adam')"
      ]
    },
    {
      "cell_type": "code",
      "execution_count": null,
      "metadata": {
        "id": "iRgLjll0AlKR"
      },
      "outputs": [],
      "source": [
        "from keras.utils import vis_utils\n",
        "vis_utils.plot_model(model, to_file='rnn_model.png', show_shapes=True)"
      ]
    },
    {
      "cell_type": "code",
      "execution_count": null,
      "metadata": {
        "id": "cSUySfi0-TMN",
        "colab": {
          "base_uri": "https://localhost:8080/"
        },
        "outputId": "9430854e-4d77-456c-d1db-0b44d9fbc48f"
      },
      "outputs": [
        {
          "output_type": "stream",
          "name": "stdout",
          "text": [
            "Epoch 1/100\n",
            "280/280 [==============================] - 42s 104ms/step - loss: 0.0202 - val_loss: 0.0155\n",
            "Epoch 2/100\n",
            "280/280 [==============================] - 28s 101ms/step - loss: 0.0152 - val_loss: 0.0154\n",
            "Epoch 3/100\n",
            "280/280 [==============================] - 29s 105ms/step - loss: 0.0148 - val_loss: 0.0153\n",
            "Epoch 4/100\n",
            "280/280 [==============================] - 31s 110ms/step - loss: 0.0146 - val_loss: 0.0154\n",
            "Epoch 5/100\n",
            "280/280 [==============================] - 30s 108ms/step - loss: 0.0143 - val_loss: 0.0155\n",
            "Epoch 6/100\n",
            "280/280 [==============================] - 30s 107ms/step - loss: 0.0140 - val_loss: 0.0154\n"
          ]
        }
      ],
      "source": [
        "file_path = '/content/model.h5'\n",
        "overlap = False\n",
        "history = []\n",
        "\n",
        "if os.path.exists(file_path) and overlap==False:\n",
        "    model = tf.keras.models.load_model(file_path)\n",
        "else:\n",
        "    batch_size = 512\n",
        "    epochs = 100\n",
        "    early_stopping = EarlyStopping(monitor='val_loss', patience=3)\n",
        "\n",
        "    history = model.fit(X_train, Y_train, validation_data=(X_val, Y_val), batch_size=batch_size, epochs=epochs, shuffle=True, verbose=1, callbacks=[early_stopping])\n",
        "\n",
        "    model.save('model.h5')"
      ]
    },
    {
      "cell_type": "code",
      "execution_count": null,
      "metadata": {
        "id": "jtAVSJFvW1YO"
      },
      "outputs": [],
      "source": [
        "loss = pd.DataFrame(history.history)"
      ]
    },
    {
      "cell_type": "code",
      "execution_count": null,
      "metadata": {
        "id": "ofWT_FDGXBpE"
      },
      "outputs": [],
      "source": [
        "loss.plot(title=\"Mean_squared_error\")"
      ]
    },
    {
      "cell_type": "markdown",
      "metadata": {
        "id": "dT-tRh1E99ji"
      },
      "source": [
        ">> #### Evaluation"
      ]
    },
    {
      "cell_type": "code",
      "execution_count": null,
      "metadata": {
        "id": "KSZJtPi4HKiA"
      },
      "outputs": [],
      "source": [
        "# Get value\n",
        "province = 'Ha Noi'\n",
        "days = 365\n",
        "X, Y = create_dataset(selected_df[selected_df['province']==province][-days:], past, step, target, distin_feature, future_length, mode=True)\n",
        "\n",
        "predict = model.predict(X).reshape(1, -1)[0]\n",
        "predict = np.array([predict[i:i+output_shape].reshape((-1, num_feature)) for i in range(0, len(predict), output_shape)])\n",
        "Y = np.array(Y).reshape((-1, future_length, num_feature))"
      ]
    },
    {
      "cell_type": "code",
      "execution_count": null,
      "metadata": {
        "id": "ONBxGaSbs-fk"
      },
      "outputs": [],
      "source": [
        "def evaluation_plot(true_value, prediction, day_th):\n",
        "  plt.figure(figsize=(22,22))\n",
        "  plt.subplots_adjust(wspace=0.4, hspace=0.6)\n",
        "\n",
        "  for i in range(num_feature):\n",
        "    plt.subplot(num_feature, 1, i+1)\n",
        "    plt.plot(df['date'][-days: -(days - len(X))], prediction[target[i]], label='Predict value')\n",
        "    plt.plot(df['date'][-days: -(days - len(X))], true_value[target[i]], label='True value')\n",
        "    plt.title((target[i]).upper())\n",
        "    plt.legend()\n",
        "\n",
        "  plt.show()"
      ]
    },
    {
      "cell_type": "code",
      "execution_count": null,
      "metadata": {
        "id": "NFFke2vhJwJQ"
      },
      "outputs": [],
      "source": [
        "dayth = 0\n",
        "\n",
        "prediction = pd.DataFrame(predict[:, dayth, :], columns=[target[:-1]])\n",
        "true_value = pd.DataFrame(Y[:, dayth, :], columns=[target[:-1]])\n",
        "evaluation_plot(true_value, prediction, dayth)"
      ]
    },
    {
      "cell_type": "code",
      "source": [
        "def mean_square_error(A, B):\n",
        "    mse = np.mean((A - B)**2)\n",
        "    return mse\n",
        "\n",
        "losses = []\n",
        "\n",
        "for day in range(future_length):\n",
        "  prediction = pd.DataFrame(predict[:, day, :], columns=[target[:-1]])\n",
        "  true_value = pd.DataFrame(Y[:, day, :], columns=[target[:-1]])\n",
        "  losses.append(mean_square_error(prediction, true_value))"
      ],
      "metadata": {
        "id": "EfonxM64ANja"
      },
      "execution_count": null,
      "outputs": []
    },
    {
      "cell_type": "code",
      "source": [
        "# Loss of each day\n",
        "stacked_df = pd.concat(losses, ignore_index=True, axis=1)\n",
        "stacked_df = stacked_df.transpose()\n",
        "stacked_df.index = ['day_1','day_2','day_3','day_4','day_5',]\n",
        "stacked_df"
      ],
      "metadata": {
        "id": "jjU06F7vKLsy"
      },
      "execution_count": null,
      "outputs": []
    },
    {
      "cell_type": "markdown",
      "metadata": {
        "id": "7Hxzi2XIBaug"
      },
      "source": [
        ">> #### Forecast"
      ]
    },
    {
      "cell_type": "code",
      "execution_count": null,
      "metadata": {
        "id": "Yc-aktd7GIDL"
      },
      "outputs": [],
      "source": [
        "#@title Input fields\n",
        "\n",
        "\n",
        "Province = \"Bac Lieu\" #@param [\"Bac Lieu\", \"Ben Tre\", \"Bien Hoa\", \"Buon Me Thuot\", \"Ca Mau\", \"Cam Pha\", \"Cam Ranh\", \"Can Tho\", \"Chau Doc\", \"Da Lat\", \"Ha Noi\", \"Hai Duong\", \"Hai Phong\", \"Hanoi\", \"Ho Chi Minh City\", \"Hoa Binh\", \"Hong Gai\", \"Hue\", \"Long Xuyen\", \"My Tho\", \"Nam Dinh\", \"Nha Trang\", \"Phan Rang\", \"Phan Thiet\", \"Play Cu\", \"Qui Nhon\", \"Rach Gia\", \"Soc Trang\", \"Tam Ky\", \"Tan An\", \"Thai Nguyen\", \"Thanh Hoa\", \"Tra Vinh\", \"Tuy Hoa\", \"Uong Bi\", \"Viet Tri\", \"Vinh\", \"Vinh Long\", \"Vung Tau\", \"Yen Bai\"]\n",
        "predicted_number_of_days = 1 #@param {type:\"integer\"}\n",
        "\n",
        "# Get input data\n",
        "input = selected_df[selected_df['province']==Province][-past:].drop('province', axis=1).values.tolist().copy()\n",
        "index = df[selected_df['province']==Province][-past:]\n",
        "\n",
        "province_encoder = BinaryEncoder(cols=['province'])\n",
        "province_encoder.fit_transform(df['province'])\n",
        "encoded_province = province_encoder.transform(pd.DataFrame({'province': [Province]})).values.tolist()[0]\n",
        "\n",
        "# Predict\n",
        "for day in range(predicted_number_of_days):\n",
        "  input.append(encoded_province + model.predict([input[day:(day+past)]])[0].reshape((future_length, num_feature))[dayth].tolist())\n",
        "\n",
        "result = pd.DataFrame(np.array(input), columns=selected_df.columns[1:])\n"
      ]
    },
    {
      "cell_type": "code",
      "execution_count": null,
      "metadata": {
        "id": "LnJ4cf1dCp7Z"
      },
      "outputs": [],
      "source": [
        "plt.figure(figsize=(22, 22))\n",
        "plt.subplots_adjust(wspace=0.4, hspace=0.6)\n",
        "\n",
        "past_date = df['date'][-past:]\n",
        "predict_date = [df['date'].iloc[-1] + pd.Timedelta(days=i) for i in range(predicted_number_of_days+1)]\n",
        "\n",
        "for i in range(num_feature):\n",
        "  plt.subplot(num_feature, 1, i+1)\n",
        "  plt.plot(df['date'][-past:], result.iloc[:past][target[i]], 'o-', label='Dữ liệu')\n",
        "  plt.plot(predict_date, result.iloc[-(predicted_number_of_days+1):][target[i]], 'o-', color='orange', label='Dự đoán')\n",
        "  plt.title((target[i]).upper())\n",
        "  plt.legend()\n",
        "\n",
        "\n",
        "plt.show()"
      ]
    },
    {
      "cell_type": "code",
      "execution_count": null,
      "metadata": {
        "id": "ofwm2GB6czfC"
      },
      "outputs": [],
      "source": [
        "rescale_data = np.round(scaler.inverse_transform(result.values[:, -7:]), 2)\n",
        "predict_df = pd.DataFrame(rescale_data, columns=normalize_feature)\n",
        "predict_df.index = list(past_date[:-1])+predict_date\n",
        "predict_df[-predicted_number_of_days:]"
      ]
    }
  ],
  "metadata": {
    "accelerator": "GPU",
    "colab": {
      "collapsed_sections": [
        "z0G7XeTBnVD7",
        "8iz5KrsL8-qm",
        "DjKjZ9GHTN4P",
        "g-aDgh34Buu-",
        "2xpakCed9pnD",
        "q_coFHkSDyvC",
        "v2neszK8S7fh",
        "4ul1kps9E_Vy",
        "0MQTZWN__5Ab",
        "mKUoSHYaouR8",
        "NemNISBrvaSU"
      ],
      "provenance": []
    },
    "kernelspec": {
      "display_name": "Python 3",
      "name": "python3"
    },
    "language_info": {
      "name": "python"
    }
  },
  "nbformat": 4,
  "nbformat_minor": 0
}